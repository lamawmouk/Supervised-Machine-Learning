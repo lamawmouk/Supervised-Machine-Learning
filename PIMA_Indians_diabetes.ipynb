{
  "nbformat": 4,
  "nbformat_minor": 0,
  "metadata": {
    "colab": {
      "name": "PIMA-Indians-diabetes.ipynb",
      "provenance": [],
      "collapsed_sections": [],
      "toc_visible": true
    },
    "kernelspec": {
      "name": "python3",
      "display_name": "Python 3"
    }
  },
  "cells": [
    {
      "cell_type": "markdown",
      "metadata": {
        "id": "lKtu-9Ryc2Rm"
      },
      "source": [
        "##Machine Learning: Classification Models using the PIMA dataset"
      ]
    },
    {
      "cell_type": "markdown",
      "metadata": {
        "id": "ILK89nnrcqXk"
      },
      "source": [
        "The PIMA Indians dataset obtained from the UCI Machine Learning Repository. The goal is to predict whether or not a given female patient will contract diabetes based on features such as BMI, age, and number of pregnancies. Therefore, it is a binary classification problem. A target value of 0 indicates that the patient does not have diabetes, while a value of 1 indicates that the patient does have diabetes."
      ]
    },
    {
      "cell_type": "code",
      "metadata": {
        "colab": {
          "base_uri": "https://localhost:8080/"
        },
        "id": "efRbyo3sZEIs",
        "outputId": "b4b041be-a8af-4bf9-9810-ef76c8e0edd8"
      },
      "source": [
        "from google.colab import drive\r\n",
        "drive.mount('/content/drive')"
      ],
      "execution_count": 1,
      "outputs": [
        {
          "output_type": "stream",
          "text": [
            "Drive already mounted at /content/drive; to attempt to forcibly remount, call drive.mount(\"/content/drive\", force_remount=True).\n"
          ],
          "name": "stdout"
        }
      ]
    },
    {
      "cell_type": "code",
      "metadata": {
        "id": "BlYOcz6MgQcl"
      },
      "source": [
        "import pandas as pd\r\n",
        "import numpy as np\r\n",
        "import matplotlib.pyplot as plt"
      ],
      "execution_count": 2,
      "outputs": []
    },
    {
      "cell_type": "code",
      "metadata": {
        "id": "tXQMDnZAaMj8"
      },
      "source": [
        "col_names=['pregnancies',  'glucose', 'diastolic','triceps','insulin', 'bmi', 'dpf','age','diabetes']\r\n",
        "df=pd.read_csv('/content/drive/MyDrive/pima-indians-diabetes.csv', names=col_names,header=None)"
      ],
      "execution_count": 3,
      "outputs": []
    },
    {
      "cell_type": "markdown",
      "metadata": {
        "id": "J8FE0mOMDEQZ"
      },
      "source": [
        "###Explore the Dataset¶"
      ]
    },
    {
      "cell_type": "code",
      "metadata": {
        "colab": {
          "base_uri": "https://localhost:8080/",
          "height": 204
        },
        "id": "m1P5-Z3-bDhz",
        "outputId": "15937084-ed62-41cd-90a6-c26b647da8ae"
      },
      "source": [
        "df.head()"
      ],
      "execution_count": 4,
      "outputs": [
        {
          "output_type": "execute_result",
          "data": {
            "text/html": [
              "<div>\n",
              "<style scoped>\n",
              "    .dataframe tbody tr th:only-of-type {\n",
              "        vertical-align: middle;\n",
              "    }\n",
              "\n",
              "    .dataframe tbody tr th {\n",
              "        vertical-align: top;\n",
              "    }\n",
              "\n",
              "    .dataframe thead th {\n",
              "        text-align: right;\n",
              "    }\n",
              "</style>\n",
              "<table border=\"1\" class=\"dataframe\">\n",
              "  <thead>\n",
              "    <tr style=\"text-align: right;\">\n",
              "      <th></th>\n",
              "      <th>pregnancies</th>\n",
              "      <th>glucose</th>\n",
              "      <th>diastolic</th>\n",
              "      <th>triceps</th>\n",
              "      <th>insulin</th>\n",
              "      <th>bmi</th>\n",
              "      <th>dpf</th>\n",
              "      <th>age</th>\n",
              "      <th>diabetes</th>\n",
              "    </tr>\n",
              "  </thead>\n",
              "  <tbody>\n",
              "    <tr>\n",
              "      <th>0</th>\n",
              "      <td>6</td>\n",
              "      <td>148</td>\n",
              "      <td>72</td>\n",
              "      <td>35</td>\n",
              "      <td>0</td>\n",
              "      <td>33.6</td>\n",
              "      <td>0.627</td>\n",
              "      <td>50</td>\n",
              "      <td>1</td>\n",
              "    </tr>\n",
              "    <tr>\n",
              "      <th>1</th>\n",
              "      <td>1</td>\n",
              "      <td>85</td>\n",
              "      <td>66</td>\n",
              "      <td>29</td>\n",
              "      <td>0</td>\n",
              "      <td>26.6</td>\n",
              "      <td>0.351</td>\n",
              "      <td>31</td>\n",
              "      <td>0</td>\n",
              "    </tr>\n",
              "    <tr>\n",
              "      <th>2</th>\n",
              "      <td>8</td>\n",
              "      <td>183</td>\n",
              "      <td>64</td>\n",
              "      <td>0</td>\n",
              "      <td>0</td>\n",
              "      <td>23.3</td>\n",
              "      <td>0.672</td>\n",
              "      <td>32</td>\n",
              "      <td>1</td>\n",
              "    </tr>\n",
              "    <tr>\n",
              "      <th>3</th>\n",
              "      <td>1</td>\n",
              "      <td>89</td>\n",
              "      <td>66</td>\n",
              "      <td>23</td>\n",
              "      <td>94</td>\n",
              "      <td>28.1</td>\n",
              "      <td>0.167</td>\n",
              "      <td>21</td>\n",
              "      <td>0</td>\n",
              "    </tr>\n",
              "    <tr>\n",
              "      <th>4</th>\n",
              "      <td>0</td>\n",
              "      <td>137</td>\n",
              "      <td>40</td>\n",
              "      <td>35</td>\n",
              "      <td>168</td>\n",
              "      <td>43.1</td>\n",
              "      <td>2.288</td>\n",
              "      <td>33</td>\n",
              "      <td>1</td>\n",
              "    </tr>\n",
              "  </tbody>\n",
              "</table>\n",
              "</div>"
            ],
            "text/plain": [
              "   pregnancies  glucose  diastolic  triceps  ...   bmi    dpf  age  diabetes\n",
              "0            6      148         72       35  ...  33.6  0.627   50         1\n",
              "1            1       85         66       29  ...  26.6  0.351   31         0\n",
              "2            8      183         64        0  ...  23.3  0.672   32         1\n",
              "3            1       89         66       23  ...  28.1  0.167   21         0\n",
              "4            0      137         40       35  ...  43.1  2.288   33         1\n",
              "\n",
              "[5 rows x 9 columns]"
            ]
          },
          "metadata": {
            "tags": []
          },
          "execution_count": 4
        }
      ]
    },
    {
      "cell_type": "code",
      "metadata": {
        "colab": {
          "base_uri": "https://localhost:8080/"
        },
        "id": "5_tRsa7CkjXU",
        "outputId": "3d26fca3-219b-4e98-b696-dcdea8fc82b4"
      },
      "source": [
        "df.info(); #df.isnull().sum() # check how many missing values exist in the collection"
      ],
      "execution_count": 5,
      "outputs": [
        {
          "output_type": "stream",
          "text": [
            "<class 'pandas.core.frame.DataFrame'>\n",
            "RangeIndex: 768 entries, 0 to 767\n",
            "Data columns (total 9 columns):\n",
            " #   Column       Non-Null Count  Dtype  \n",
            "---  ------       --------------  -----  \n",
            " 0   pregnancies  768 non-null    int64  \n",
            " 1   glucose      768 non-null    int64  \n",
            " 2   diastolic    768 non-null    int64  \n",
            " 3   triceps      768 non-null    int64  \n",
            " 4   insulin      768 non-null    int64  \n",
            " 5   bmi          768 non-null    float64\n",
            " 6   dpf          768 non-null    float64\n",
            " 7   age          768 non-null    int64  \n",
            " 8   diabetes     768 non-null    int64  \n",
            "dtypes: float64(2), int64(7)\n",
            "memory usage: 54.1 KB\n"
          ],
          "name": "stdout"
        }
      ]
    },
    {
      "cell_type": "code",
      "metadata": {
        "colab": {
          "base_uri": "https://localhost:8080/",
          "height": 338
        },
        "id": "WOJAy679kM4i",
        "outputId": "5d0a1de4-1484-4dfe-86f5-0d8e6d6a0376"
      },
      "source": [
        "#See features which are positively correlated with diabetes, and which ones are negatively correlated.\r\n",
        "import seaborn as sns\r\n",
        "sns.heatmap(df.corr(), square=True, cmap='RdYlGn') #df.corr() computes the pairwise correlation between columns:"
      ],
      "execution_count": 6,
      "outputs": [
        {
          "output_type": "execute_result",
          "data": {
            "text/plain": [
              "<matplotlib.axes._subplots.AxesSubplot at 0x7f6500b17860>"
            ]
          },
          "metadata": {
            "tags": []
          },
          "execution_count": 6
        },
        {
          "output_type": "display_data",
          "data": {
            "image/png": "[encoded data removed]",
            "text/plain": [
              "<Figure size 432x288 with 2 Axes>"
            ]
          },
          "metadata": {
            "tags": [],
            "needs_background": "light"
          }
        }
      ]
    },
    {
      "cell_type": "code",
      "metadata": {
        "id": "Ch2CobayWjnG"
      },
      "source": [
        "y=df['diabetes']\r\n",
        "X=df.drop('diabetes', axis=1)"
      ],
      "execution_count": 7,
      "outputs": []
    },
    {
      "cell_type": "markdown",
      "metadata": {
        "id": "DEqywB3wDTc6"
      },
      "source": [
        "The features (X) include the following fields:\r\n",
        "\r\n",
        "age: (years)\r\n",
        "Systolic_BP: Systolic blood pressure (mmHg)\r\n",
        "Diastolic_BP: Diastolic blood pressure (mmHg)\r\n",
        "Cholesterol: (mg/DL)\r\n",
        "We can use the head() method to display the first few records of each."
      ]
    },
    {
      "cell_type": "markdown",
      "metadata": {
        "id": "Xme_8uIkC8X9"
      },
      "source": [
        "The target (y) is an indicator of whether or not the patient has diabetes.\r\n",
        "\r\n",
        "y = 1 : patient has retinopathy.\r\n",
        "y = 0 : patient does not have retinopathy."
      ]
    },
    {
      "cell_type": "code",
      "metadata": {
        "colab": {
          "base_uri": "https://localhost:8080/"
        },
        "id": "pnbNywSHDJy_",
        "outputId": "b34d7c3a-f650-4600-b5ee-9a5a2f3f5acc"
      },
      "source": [
        "y.head()"
      ],
      "execution_count": 8,
      "outputs": [
        {
          "output_type": "execute_result",
          "data": {
            "text/plain": [
              "0    1\n",
              "1    0\n",
              "2    1\n",
              "3    0\n",
              "4    1\n",
              "Name: diabetes, dtype: int64"
            ]
          },
          "metadata": {
            "tags": []
          },
          "execution_count": 8
        }
      ]
    },
    {
      "cell_type": "markdown",
      "metadata": {
        "id": "sTXNCSFiqU5k"
      },
      "source": [
        "### Data Distribution\r\n",
        "Many algorithms may assume that data is normally distributed, or at least that \r\n",
        "all  columns are on the same scale. This will often not be the case, e.g. one feature may be measured in thousands of dollars while another would be number of years."
      ]
    },
    {
      "cell_type": "code",
      "metadata": {
        "colab": {
          "base_uri": "https://localhost:8080/",
          "height": 297
        },
        "id": "i3ZqGvMUi4s6",
        "outputId": "27fd7aea-3ce3-4636-b5ae-847b80231500"
      },
      "source": [
        "df.describe()"
      ],
      "execution_count": 9,
      "outputs": [
        {
          "output_type": "execute_result",
          "data": {
            "text/html": [
              "<div>\n",
              "<style scoped>\n",
              "    .dataframe tbody tr th:only-of-type {\n",
              "        vertical-align: middle;\n",
              "    }\n",
              "\n",
              "    .dataframe tbody tr th {\n",
              "        vertical-align: top;\n",
              "    }\n",
              "\n",
              "    .dataframe thead th {\n",
              "        text-align: right;\n",
              "    }\n",
              "</style>\n",
              "<table border=\"1\" class=\"dataframe\">\n",
              "  <thead>\n",
              "    <tr style=\"text-align: right;\">\n",
              "      <th></th>\n",
              "      <th>pregnancies</th>\n",
              "      <th>glucose</th>\n",
              "      <th>diastolic</th>\n",
              "      <th>triceps</th>\n",
              "      <th>insulin</th>\n",
              "      <th>bmi</th>\n",
              "      <th>dpf</th>\n",
              "      <th>age</th>\n",
              "      <th>diabetes</th>\n",
              "    </tr>\n",
              "  </thead>\n",
              "  <tbody>\n",
              "    <tr>\n",
              "      <th>count</th>\n",
              "      <td>768.000000</td>\n",
              "      <td>768.000000</td>\n",
              "      <td>768.000000</td>\n",
              "      <td>768.000000</td>\n",
              "      <td>768.000000</td>\n",
              "      <td>768.000000</td>\n",
              "      <td>768.000000</td>\n",
              "      <td>768.000000</td>\n",
              "      <td>768.000000</td>\n",
              "    </tr>\n",
              "    <tr>\n",
              "      <th>mean</th>\n",
              "      <td>3.845052</td>\n",
              "      <td>120.894531</td>\n",
              "      <td>69.105469</td>\n",
              "      <td>20.536458</td>\n",
              "      <td>79.799479</td>\n",
              "      <td>31.992578</td>\n",
              "      <td>0.471876</td>\n",
              "      <td>33.240885</td>\n",
              "      <td>0.348958</td>\n",
              "    </tr>\n",
              "    <tr>\n",
              "      <th>std</th>\n",
              "      <td>3.369578</td>\n",
              "      <td>31.972618</td>\n",
              "      <td>19.355807</td>\n",
              "      <td>15.952218</td>\n",
              "      <td>115.244002</td>\n",
              "      <td>7.884160</td>\n",
              "      <td>0.331329</td>\n",
              "      <td>11.760232</td>\n",
              "      <td>0.476951</td>\n",
              "    </tr>\n",
              "    <tr>\n",
              "      <th>min</th>\n",
              "      <td>0.000000</td>\n",
              "      <td>0.000000</td>\n",
              "      <td>0.000000</td>\n",
              "      <td>0.000000</td>\n",
              "      <td>0.000000</td>\n",
              "      <td>0.000000</td>\n",
              "      <td>0.078000</td>\n",
              "      <td>21.000000</td>\n",
              "      <td>0.000000</td>\n",
              "    </tr>\n",
              "    <tr>\n",
              "      <th>25%</th>\n",
              "      <td>1.000000</td>\n",
              "      <td>99.000000</td>\n",
              "      <td>62.000000</td>\n",
              "      <td>0.000000</td>\n",
              "      <td>0.000000</td>\n",
              "      <td>27.300000</td>\n",
              "      <td>0.243750</td>\n",
              "      <td>24.000000</td>\n",
              "      <td>0.000000</td>\n",
              "    </tr>\n",
              "    <tr>\n",
              "      <th>50%</th>\n",
              "      <td>3.000000</td>\n",
              "      <td>117.000000</td>\n",
              "      <td>72.000000</td>\n",
              "      <td>23.000000</td>\n",
              "      <td>30.500000</td>\n",
              "      <td>32.000000</td>\n",
              "      <td>0.372500</td>\n",
              "      <td>29.000000</td>\n",
              "      <td>0.000000</td>\n",
              "    </tr>\n",
              "    <tr>\n",
              "      <th>75%</th>\n",
              "      <td>6.000000</td>\n",
              "      <td>140.250000</td>\n",
              "      <td>80.000000</td>\n",
              "      <td>32.000000</td>\n",
              "      <td>127.250000</td>\n",
              "      <td>36.600000</td>\n",
              "      <td>0.626250</td>\n",
              "      <td>41.000000</td>\n",
              "      <td>1.000000</td>\n",
              "    </tr>\n",
              "    <tr>\n",
              "      <th>max</th>\n",
              "      <td>17.000000</td>\n",
              "      <td>199.000000</td>\n",
              "      <td>122.000000</td>\n",
              "      <td>99.000000</td>\n",
              "      <td>846.000000</td>\n",
              "      <td>67.100000</td>\n",
              "      <td>2.420000</td>\n",
              "      <td>81.000000</td>\n",
              "      <td>1.000000</td>\n",
              "    </tr>\n",
              "  </tbody>\n",
              "</table>\n",
              "</div>"
            ],
            "text/plain": [
              "       pregnancies     glucose   diastolic  ...         dpf         age    diabetes\n",
              "count   768.000000  768.000000  768.000000  ...  768.000000  768.000000  768.000000\n",
              "mean      3.845052  120.894531   69.105469  ...    0.471876   33.240885    0.348958\n",
              "std       3.369578   31.972618   19.355807  ...    0.331329   11.760232    0.476951\n",
              "min       0.000000    0.000000    0.000000  ...    0.078000   21.000000    0.000000\n",
              "25%       1.000000   99.000000   62.000000  ...    0.243750   24.000000    0.000000\n",
              "50%       3.000000  117.000000   72.000000  ...    0.372500   29.000000    0.000000\n",
              "75%       6.000000  140.250000   80.000000  ...    0.626250   41.000000    1.000000\n",
              "max      17.000000  199.000000  122.000000  ...    2.420000   81.000000    1.000000\n",
              "\n",
              "[8 rows x 9 columns]"
            ]
          },
          "metadata": {
            "tags": []
          },
          "execution_count": 9
        }
      ]
    },
    {
      "cell_type": "code",
      "metadata": {
        "colab": {
          "base_uri": "https://localhost:8080/",
          "height": 1000
        },
        "id": "tIiAtkEJCHVl",
        "outputId": "370efe42-b8c5-4f8d-9e1f-5d01da256710"
      },
      "source": [
        "#Plot the histograms of each column of X below:\r\n",
        "for col in X.columns:\r\n",
        "    X.loc[:, col].hist()\r\n",
        "    plt.title(col)\r\n",
        "    plt.show()"
      ],
      "execution_count": 10,
      "outputs": [
        {
          "output_type": "display_data",
          "data": {
            "image/png": "[encoded data removed]",
            "text/plain": [
              "<Figure size 432x288 with 1 Axes>"
            ]
          },
          "metadata": {
            "tags": [],
            "needs_background": "light"
          }
        },
        {
          "output_type": "display_data",
          "data": {
            "image/png": "[encoded data removed]",
            "text/plain": [
              "<Figure size 432x288 with 1 Axes>"
            ]
          },
          "metadata": {
            "tags": [],
            "needs_background": "light"
          }
        },
        {
          "output_type": "display_data",
          "data": {
            "image/png": "[encoded data removed]",
            "text/plain": [
              "<Figure size 432x288 with 1 Axes>"
            ]
          },
          "metadata": {
            "tags": [],
            "needs_background": "light"
          }
        },
        {
          "output_type": "display_data",
          "data": {
            "image/png": "[encoded data removed]",
            "text/plain": [
              "<Figure size 432x288 with 1 Axes>"
            ]
          },
          "metadata": {
            "tags": [],
            "needs_background": "light"
          }
        },
        {
          "output_type": "display_data",
          "data": {
            "image/png": "[encoded data removed]",
            "text/plain": [
              "<Figure size 432x288 with 1 Axes>"
            ]
          },
          "metadata": {
            "tags": [],
            "needs_background": "light"
          }
        },
        {
          "output_type": "display_data",
          "data": {
            "image/png": "[encoded data removed]",
            "text/plain": [
              "<Figure size 432x288 with 1 Axes>"
            ]
          },
          "metadata": {
            "tags": [],
            "needs_background": "light"
          }
        },
        {
          "output_type": "display_data",
          "data": {
            "image/png": "[encoded data removed]",
            "text/plain": [
              "<Figure size 432x288 with 1 Axes>"
            ]
          },
          "metadata": {
            "tags": [],
            "needs_background": "light"
          }
        },
        {
          "output_type": "display_data",
          "data": {
            "image/png": "[encoded data removed]",
            "text/plain": [
              "<Figure size 432x288 with 1 Axes>"
            ]
          },
          "metadata": {
            "tags": [],
            "needs_background": "light"
          }
        }
      ]
    },
    {
      "cell_type": "markdown",
      "metadata": {
        "id": "kFh3U4Kgo31k"
      },
      "source": [
        "The distributions have a generally bell shaped distribution, but with slight rightward skew. Many statistical models assume that the data is normally distributed, forming a symmetric Gaussian bell shape (with no skew)"
      ]
    },
    {
      "cell_type": "code",
      "metadata": {
        "colab": {
          "base_uri": "https://localhost:8080/"
        },
        "id": "Vc5cbFJHplcT",
        "outputId": "6d39f792-24a6-40ed-e8a1-e2e992c55eac"
      },
      "source": [
        "np.random.normal(50,12, 5000)"
      ],
      "execution_count": 11,
      "outputs": [
        {
          "output_type": "execute_result",
          "data": {
            "text/plain": [
              "array([72.63597227, 60.23111623, 54.01320598, ..., 46.77321491,\n",
              "       37.12478036, 39.34040032])"
            ]
          },
          "metadata": {
            "tags": []
          },
          "execution_count": 11
        }
      ]
    },
    {
      "cell_type": "code",
      "metadata": {
        "colab": {
          "base_uri": "https://localhost:8080/",
          "height": 281
        },
        "id": "7FAAQE-Vo3YJ",
        "outputId": "4b9db6d3-1015-4147-827f-172af150527a"
      },
      "source": [
        "from scipy.stats import norm\r\n",
        "data = np.random.normal(50,12, 5000)\r\n",
        "fitting_params = norm.fit(data)\r\n",
        "norm_dist_fitted = norm(*fitting_params)\r\n",
        "t = np.linspace(0,100, 100)\r\n",
        "plt.hist(data, bins=60, density=True)\r\n",
        "plt.plot(t, norm_dist_fitted.pdf(t))\r\n",
        "plt.title('Example of Normally Distributed Data')\r\n",
        "plt.show()"
      ],
      "execution_count": 12,
      "outputs": [
        {
          "output_type": "display_data",
          "data": {
            "image/png": "[encoded data removed]",
            "text/plain": [
              "<Figure size 432x288 with 1 Axes>"
            ]
          },
          "metadata": {
            "tags": [],
            "needs_background": "light"
          }
        }
      ]
    },
    {
      "cell_type": "markdown",
      "metadata": {
        "id": "dQXWocnLeW8j"
      },
      "source": [
        "Imputing missing data "
      ]
    },
    {
      "cell_type": "code",
      "metadata": {
        "colab": {
          "base_uri": "https://localhost:8080/"
        },
        "id": "AqJzJxiFJeec",
        "outputId": "41600042-407a-4be8-8c0d-dc202b88f0be"
      },
      "source": [
        "feature_list=['glucose','diastolic','insulin','triceps','bmi','age'] # these features cannot possibly have a min which is equal to zero, therefore we will fill them with nan to impute them later\r\n",
        "for i in feature_list:\r\n",
        "  #print([X[i]==0])\r\n",
        "  X[i]=X[i].replace(0, np.nan)\r\n",
        "print(X)\r\n"
      ],
      "execution_count": 13,
      "outputs": [
        {
          "output_type": "stream",
          "text": [
            "     pregnancies  glucose  diastolic  triceps  insulin   bmi    dpf  age\n",
            "0              6    148.0       72.0     35.0      NaN  33.6  0.627   50\n",
            "1              1     85.0       66.0     29.0      NaN  26.6  0.351   31\n",
            "2              8    183.0       64.0      NaN      NaN  23.3  0.672   32\n",
            "3              1     89.0       66.0     23.0     94.0  28.1  0.167   21\n",
            "4              0    137.0       40.0     35.0    168.0  43.1  2.288   33\n",
            "..           ...      ...        ...      ...      ...   ...    ...  ...\n",
            "763           10    101.0       76.0     48.0    180.0  32.9  0.171   63\n",
            "764            2    122.0       70.0     27.0      NaN  36.8  0.340   27\n",
            "765            5    121.0       72.0     23.0    112.0  26.2  0.245   30\n",
            "766            1    126.0       60.0      NaN      NaN  30.1  0.349   47\n",
            "767            1     93.0       70.0     31.0      NaN  30.4  0.315   23\n",
            "\n",
            "[768 rows x 8 columns]\n"
          ],
          "name": "stdout"
        }
      ]
    },
    {
      "cell_type": "code",
      "metadata": {
        "colab": {
          "base_uri": "https://localhost:8080/"
        },
        "id": "7VD1liWkRhdj",
        "outputId": "fed871a6-fa0c-4b7f-d082-b0f01a2d36e2"
      },
      "source": [
        "print(X.isnull().sum())"
      ],
      "execution_count": 14,
      "outputs": [
        {
          "output_type": "stream",
          "text": [
            "pregnancies      0\n",
            "glucose          5\n",
            "diastolic       35\n",
            "triceps        227\n",
            "insulin        374\n",
            "bmi             11\n",
            "dpf              0\n",
            "age              0\n",
            "dtype: int64\n"
          ],
          "name": "stdout"
        }
      ]
    },
    {
      "cell_type": "code",
      "metadata": {
        "colab": {
          "base_uri": "https://localhost:8080/",
          "height": 297
        },
        "id": "sNBp4yMTLtc4",
        "outputId": "a2115709-a19e-4a32-99be-6623f5290a8b"
      },
      "source": [
        "X.describe()"
      ],
      "execution_count": 15,
      "outputs": [
        {
          "output_type": "execute_result",
          "data": {
            "text/html": [
              "<div>\n",
              "<style scoped>\n",
              "    .dataframe tbody tr th:only-of-type {\n",
              "        vertical-align: middle;\n",
              "    }\n",
              "\n",
              "    .dataframe tbody tr th {\n",
              "        vertical-align: top;\n",
              "    }\n",
              "\n",
              "    .dataframe thead th {\n",
              "        text-align: right;\n",
              "    }\n",
              "</style>\n",
              "<table border=\"1\" class=\"dataframe\">\n",
              "  <thead>\n",
              "    <tr style=\"text-align: right;\">\n",
              "      <th></th>\n",
              "      <th>pregnancies</th>\n",
              "      <th>glucose</th>\n",
              "      <th>diastolic</th>\n",
              "      <th>triceps</th>\n",
              "      <th>insulin</th>\n",
              "      <th>bmi</th>\n",
              "      <th>dpf</th>\n",
              "      <th>age</th>\n",
              "    </tr>\n",
              "  </thead>\n",
              "  <tbody>\n",
              "    <tr>\n",
              "      <th>count</th>\n",
              "      <td>768.000000</td>\n",
              "      <td>763.000000</td>\n",
              "      <td>733.000000</td>\n",
              "      <td>541.000000</td>\n",
              "      <td>394.000000</td>\n",
              "      <td>757.000000</td>\n",
              "      <td>768.000000</td>\n",
              "      <td>768.000000</td>\n",
              "    </tr>\n",
              "    <tr>\n",
              "      <th>mean</th>\n",
              "      <td>3.845052</td>\n",
              "      <td>121.686763</td>\n",
              "      <td>72.405184</td>\n",
              "      <td>29.153420</td>\n",
              "      <td>155.548223</td>\n",
              "      <td>32.457464</td>\n",
              "      <td>0.471876</td>\n",
              "      <td>33.240885</td>\n",
              "    </tr>\n",
              "    <tr>\n",
              "      <th>std</th>\n",
              "      <td>3.369578</td>\n",
              "      <td>30.535641</td>\n",
              "      <td>12.382158</td>\n",
              "      <td>10.476982</td>\n",
              "      <td>118.775855</td>\n",
              "      <td>6.924988</td>\n",
              "      <td>0.331329</td>\n",
              "      <td>11.760232</td>\n",
              "    </tr>\n",
              "    <tr>\n",
              "      <th>min</th>\n",
              "      <td>0.000000</td>\n",
              "      <td>44.000000</td>\n",
              "      <td>24.000000</td>\n",
              "      <td>7.000000</td>\n",
              "      <td>14.000000</td>\n",
              "      <td>18.200000</td>\n",
              "      <td>0.078000</td>\n",
              "      <td>21.000000</td>\n",
              "    </tr>\n",
              "    <tr>\n",
              "      <th>25%</th>\n",
              "      <td>1.000000</td>\n",
              "      <td>99.000000</td>\n",
              "      <td>64.000000</td>\n",
              "      <td>22.000000</td>\n",
              "      <td>76.250000</td>\n",
              "      <td>27.500000</td>\n",
              "      <td>0.243750</td>\n",
              "      <td>24.000000</td>\n",
              "    </tr>\n",
              "    <tr>\n",
              "      <th>50%</th>\n",
              "      <td>3.000000</td>\n",
              "      <td>117.000000</td>\n",
              "      <td>72.000000</td>\n",
              "      <td>29.000000</td>\n",
              "      <td>125.000000</td>\n",
              "      <td>32.300000</td>\n",
              "      <td>0.372500</td>\n",
              "      <td>29.000000</td>\n",
              "    </tr>\n",
              "    <tr>\n",
              "      <th>75%</th>\n",
              "      <td>6.000000</td>\n",
              "      <td>141.000000</td>\n",
              "      <td>80.000000</td>\n",
              "      <td>36.000000</td>\n",
              "      <td>190.000000</td>\n",
              "      <td>36.600000</td>\n",
              "      <td>0.626250</td>\n",
              "      <td>41.000000</td>\n",
              "    </tr>\n",
              "    <tr>\n",
              "      <th>max</th>\n",
              "      <td>17.000000</td>\n",
              "      <td>199.000000</td>\n",
              "      <td>122.000000</td>\n",
              "      <td>99.000000</td>\n",
              "      <td>846.000000</td>\n",
              "      <td>67.100000</td>\n",
              "      <td>2.420000</td>\n",
              "      <td>81.000000</td>\n",
              "    </tr>\n",
              "  </tbody>\n",
              "</table>\n",
              "</div>"
            ],
            "text/plain": [
              "       pregnancies     glucose   diastolic  ...         bmi         dpf         age\n",
              "count   768.000000  763.000000  733.000000  ...  757.000000  768.000000  768.000000\n",
              "mean      3.845052  121.686763   72.405184  ...   32.457464    0.471876   33.240885\n",
              "std       3.369578   30.535641   12.382158  ...    6.924988    0.331329   11.760232\n",
              "min       0.000000   44.000000   24.000000  ...   18.200000    0.078000   21.000000\n",
              "25%       1.000000   99.000000   64.000000  ...   27.500000    0.243750   24.000000\n",
              "50%       3.000000  117.000000   72.000000  ...   32.300000    0.372500   29.000000\n",
              "75%       6.000000  141.000000   80.000000  ...   36.600000    0.626250   41.000000\n",
              "max      17.000000  199.000000  122.000000  ...   67.100000    2.420000   81.000000\n",
              "\n",
              "[8 rows x 8 columns]"
            ]
          },
          "metadata": {
            "tags": []
          },
          "execution_count": 15
        }
      ]
    },
    {
      "cell_type": "code",
      "metadata": {
        "colab": {
          "base_uri": "https://localhost:8080/"
        },
        "id": "vQb9ZxxcdUsd",
        "outputId": "0345daa5-5a6b-40db-9097-af9f6bb8ec60"
      },
      "source": [
        "#Dropping missing data\r\n",
        "X_nozeros=X.dropna() \r\n",
        "X_nozeros.shape ## this drops about half of the data which contain missing values(i.e features which have 0's) therefore we will impute the data instead of dropping it"
      ],
      "execution_count": 16,
      "outputs": [
        {
          "output_type": "execute_result",
          "data": {
            "text/plain": [
              "(392, 8)"
            ]
          },
          "metadata": {
            "tags": []
          },
          "execution_count": 16
        }
      ]
    },
    {
      "cell_type": "code",
      "metadata": {
        "id": "61QBvdfESIav"
      },
      "source": [
        "from sklearn.impute import SimpleImputer\r\n",
        "my_imputer = SimpleImputer(missing_values=np.nan, strategy='most_frequent')\r\n",
        "imputed_X = pd.DataFrame(my_imputer.fit_transform(X))\r\n",
        "# Imputation removed column names; put them back\r\n",
        "imputed_X.columns = X.columns\r\n",
        "X=imputed_X"
      ],
      "execution_count": 17,
      "outputs": []
    },
    {
      "cell_type": "code",
      "metadata": {
        "colab": {
          "base_uri": "https://localhost:8080/"
        },
        "id": "64qf-_LXYCx6",
        "outputId": "0c7c99c2-6440-4579-fa3a-de827a194321"
      },
      "source": [
        "X.isnull().sum()"
      ],
      "execution_count": 18,
      "outputs": [
        {
          "output_type": "execute_result",
          "data": {
            "text/plain": [
              "pregnancies    0\n",
              "glucose        0\n",
              "diastolic      0\n",
              "triceps        0\n",
              "insulin        0\n",
              "bmi            0\n",
              "dpf            0\n",
              "age            0\n",
              "dtype: int64"
            ]
          },
          "metadata": {
            "tags": []
          },
          "execution_count": 18
        }
      ]
    },
    {
      "cell_type": "markdown",
      "metadata": {
        "id": "BZO7s_hbr62k"
      },
      "source": [
        "### Scaling the features"
      ]
    },
    {
      "cell_type": "code",
      "metadata": {
        "colab": {
          "base_uri": "https://localhost:8080/",
          "height": 204
        },
        "id": "YI42CRKduNqN",
        "outputId": "1f2f7e00-4aeb-4f28-9d34-cfdc1e6723bd"
      },
      "source": [
        "X.head()"
      ],
      "execution_count": 19,
      "outputs": [
        {
          "output_type": "execute_result",
          "data": {
            "text/html": [
              "<div>\n",
              "<style scoped>\n",
              "    .dataframe tbody tr th:only-of-type {\n",
              "        vertical-align: middle;\n",
              "    }\n",
              "\n",
              "    .dataframe tbody tr th {\n",
              "        vertical-align: top;\n",
              "    }\n",
              "\n",
              "    .dataframe thead th {\n",
              "        text-align: right;\n",
              "    }\n",
              "</style>\n",
              "<table border=\"1\" class=\"dataframe\">\n",
              "  <thead>\n",
              "    <tr style=\"text-align: right;\">\n",
              "      <th></th>\n",
              "      <th>pregnancies</th>\n",
              "      <th>glucose</th>\n",
              "      <th>diastolic</th>\n",
              "      <th>triceps</th>\n",
              "      <th>insulin</th>\n",
              "      <th>bmi</th>\n",
              "      <th>dpf</th>\n",
              "      <th>age</th>\n",
              "    </tr>\n",
              "  </thead>\n",
              "  <tbody>\n",
              "    <tr>\n",
              "      <th>0</th>\n",
              "      <td>6.0</td>\n",
              "      <td>148.0</td>\n",
              "      <td>72.0</td>\n",
              "      <td>35.0</td>\n",
              "      <td>105.0</td>\n",
              "      <td>33.6</td>\n",
              "      <td>0.627</td>\n",
              "      <td>50.0</td>\n",
              "    </tr>\n",
              "    <tr>\n",
              "      <th>1</th>\n",
              "      <td>1.0</td>\n",
              "      <td>85.0</td>\n",
              "      <td>66.0</td>\n",
              "      <td>29.0</td>\n",
              "      <td>105.0</td>\n",
              "      <td>26.6</td>\n",
              "      <td>0.351</td>\n",
              "      <td>31.0</td>\n",
              "    </tr>\n",
              "    <tr>\n",
              "      <th>2</th>\n",
              "      <td>8.0</td>\n",
              "      <td>183.0</td>\n",
              "      <td>64.0</td>\n",
              "      <td>32.0</td>\n",
              "      <td>105.0</td>\n",
              "      <td>23.3</td>\n",
              "      <td>0.672</td>\n",
              "      <td>32.0</td>\n",
              "    </tr>\n",
              "    <tr>\n",
              "      <th>3</th>\n",
              "      <td>1.0</td>\n",
              "      <td>89.0</td>\n",
              "      <td>66.0</td>\n",
              "      <td>23.0</td>\n",
              "      <td>94.0</td>\n",
              "      <td>28.1</td>\n",
              "      <td>0.167</td>\n",
              "      <td>21.0</td>\n",
              "    </tr>\n",
              "    <tr>\n",
              "      <th>4</th>\n",
              "      <td>0.0</td>\n",
              "      <td>137.0</td>\n",
              "      <td>40.0</td>\n",
              "      <td>35.0</td>\n",
              "      <td>168.0</td>\n",
              "      <td>43.1</td>\n",
              "      <td>2.288</td>\n",
              "      <td>33.0</td>\n",
              "    </tr>\n",
              "  </tbody>\n",
              "</table>\n",
              "</div>"
            ],
            "text/plain": [
              "   pregnancies  glucose  diastolic  triceps  insulin   bmi    dpf   age\n",
              "0          6.0    148.0       72.0     35.0    105.0  33.6  0.627  50.0\n",
              "1          1.0     85.0       66.0     29.0    105.0  26.6  0.351  31.0\n",
              "2          8.0    183.0       64.0     32.0    105.0  23.3  0.672  32.0\n",
              "3          1.0     89.0       66.0     23.0     94.0  28.1  0.167  21.0\n",
              "4          0.0    137.0       40.0     35.0    168.0  43.1  2.288  33.0"
            ]
          },
          "metadata": {
            "tags": []
          },
          "execution_count": 19
        }
      ]
    },
    {
      "cell_type": "code",
      "metadata": {
        "id": "bx5yTwj1gXZ3"
      },
      "source": [
        "# Create training and test set\r\n",
        "from sklearn.model_selection import train_test_split\r\n",
        "X_train, X_test, y_train, y_test=train_test_split(X,y,test_size=0.4, random_state=42)"
      ],
      "execution_count": 20,
      "outputs": []
    },
    {
      "cell_type": "markdown",
      "metadata": {
        "id": "uCAbDDVBLtY-"
      },
      "source": [
        "A non-linear relationship might exist between the variables and the class. To test the hypothesis, we construct a non-linear transformation of the feature. \r\n",
        "Assess which of the five features is better at predicting the class using SelectKBest() and the chi2() metric."
      ]
    },
    {
      "cell_type": "code",
      "metadata": {
        "id": "vIuvnL1MV3UF",
        "colab": {
          "base_uri": "https://localhost:8080/",
          "height": 204
        },
        "outputId": "d3d4c5f4-5337-4551-b20e-78839f233c40"
      },
      "source": [
        " from sklearn.feature_selection import SelectKBest, chi2\r\n",
        "# Apply SelectKBest with chi2 and pick top 5 features\r\n",
        "vt = SelectKBest(chi2, k=5).fit(X_train, y_train)\r\n",
        "\r\n",
        "# Create a  dataset containing the selected features\r\n",
        "X_train_reduced = vt.transform(X_train)\r\n",
        "X_train=pd.DataFrame(X_train_reduced, columns=['Pregancies','Glucose','Insulin','BMI','Age'])\r\n",
        "X_test_reduced = vt.transform(X_test)\r\n",
        "X_test=pd.DataFrame(X_test_reduced, columns=['Pregancies','Glucose','Insulin','BMI','Age'])\r\n",
        "\r\n",
        "X_train.head()\r\n"
      ],
      "execution_count": 21,
      "outputs": [
        {
          "output_type": "execute_result",
          "data": {
            "text/html": [
              "<div>\n",
              "<style scoped>\n",
              "    .dataframe tbody tr th:only-of-type {\n",
              "        vertical-align: middle;\n",
              "    }\n",
              "\n",
              "    .dataframe tbody tr th {\n",
              "        vertical-align: top;\n",
              "    }\n",
              "\n",
              "    .dataframe thead th {\n",
              "        text-align: right;\n",
              "    }\n",
              "</style>\n",
              "<table border=\"1\" class=\"dataframe\">\n",
              "  <thead>\n",
              "    <tr style=\"text-align: right;\">\n",
              "      <th></th>\n",
              "      <th>Pregancies</th>\n",
              "      <th>Glucose</th>\n",
              "      <th>Insulin</th>\n",
              "      <th>BMI</th>\n",
              "      <th>Age</th>\n",
              "    </tr>\n",
              "  </thead>\n",
              "  <tbody>\n",
              "    <tr>\n",
              "      <th>0</th>\n",
              "      <td>0.0</td>\n",
              "      <td>94.0</td>\n",
              "      <td>105.0</td>\n",
              "      <td>32.0</td>\n",
              "      <td>25.0</td>\n",
              "    </tr>\n",
              "    <tr>\n",
              "      <th>1</th>\n",
              "      <td>8.0</td>\n",
              "      <td>125.0</td>\n",
              "      <td>105.0</td>\n",
              "      <td>32.0</td>\n",
              "      <td>54.0</td>\n",
              "    </tr>\n",
              "    <tr>\n",
              "      <th>2</th>\n",
              "      <td>1.0</td>\n",
              "      <td>111.0</td>\n",
              "      <td>105.0</td>\n",
              "      <td>30.1</td>\n",
              "      <td>23.0</td>\n",
              "    </tr>\n",
              "    <tr>\n",
              "      <th>3</th>\n",
              "      <td>7.0</td>\n",
              "      <td>196.0</td>\n",
              "      <td>105.0</td>\n",
              "      <td>39.8</td>\n",
              "      <td>41.0</td>\n",
              "    </tr>\n",
              "    <tr>\n",
              "      <th>4</th>\n",
              "      <td>2.0</td>\n",
              "      <td>158.0</td>\n",
              "      <td>105.0</td>\n",
              "      <td>31.6</td>\n",
              "      <td>66.0</td>\n",
              "    </tr>\n",
              "  </tbody>\n",
              "</table>\n",
              "</div>"
            ],
            "text/plain": [
              "   Pregancies  Glucose  Insulin   BMI   Age\n",
              "0         0.0     94.0    105.0  32.0  25.0\n",
              "1         8.0    125.0    105.0  32.0  54.0\n",
              "2         1.0    111.0    105.0  30.1  23.0\n",
              "3         7.0    196.0    105.0  39.8  41.0\n",
              "4         2.0    158.0    105.0  31.6  66.0"
            ]
          },
          "metadata": {
            "tags": []
          },
          "execution_count": 21
        }
      ]
    },
    {
      "cell_type": "markdown",
      "metadata": {
        "id": "HiecLjgu_KYZ"
      },
      "source": [
        "Transform  data so that the distributions are closer to standard normal distributions.\r\n",
        "\r\n",
        "First we will remove some of the skew from the distribution by using the log transformation. Then we will \"standardize\" the distribution so that it has a mean of zero and standard deviation of 1. A standard normal distribution has mean of zero and standard deviation of 1."
      ]
    },
    {
      "cell_type": "code",
      "metadata": {
        "id": "Fr95vpF0_TM5"
      },
      "source": [
        "def make_standard_normal(df_train, df_test):\r\n",
        "    \"\"\"\r\n",
        "    To make the data closer to a normal distribution, take log\r\n",
        "    transforms to reduce the skew.\r\n",
        "    Then standardize the distribution with a mean of zero and standard deviation of 1. \r\n",
        "  \r\n",
        "    Args:\r\n",
        "      df_train (dataframe): unnormalized training data.\r\n",
        "      df_test (dataframe): unnormalized test data.\r\n",
        "  \r\n",
        "    Returns:\r\n",
        "      df_train_normalized (dateframe): normalized training data.\r\n",
        "      df_test_normalized (dataframe): normalized test data.\r\n",
        "    \"\"\" \r\n",
        "    # Remove skew by applying the log function to the train set, and to the test set\r\n",
        "    np.seterr(divide = 'ignore')\r\n",
        "    df_train_unskewed = np.where(df_train>0, np.log(df_train), 0)\r\n",
        "    df_test_unskewed = np.where(df_test>0, np.log(df_test), 0)\r\n",
        "    \r\n",
        "    \r\n",
        "    #calculate the mean and standard deviation of the training set\r\n",
        "    mean = df_train_unskewed.mean(axis = 0) # along the column\r\n",
        "    stdev = df_train_unskewed.std(axis = 0, ddof=1)\r\n",
        "    \r\n",
        "    # standardize the training set\r\n",
        "    df_train_standardized = (df_train_unskewed - mean)/ stdev\r\n",
        "    \r\n",
        "    # standardize the test set (see instructions and hints above)\r\n",
        "    df_test_standardized = (df_test_unskewed - mean) / stdev\r\n",
        "    \r\n",
        "    df_train_standardized=pd.DataFrame(df_train_standardized)\r\n",
        "    df_test_standardized=pd.DataFrame(df_test_standardized)\r\n",
        " \r\n",
        "    return df_train_standardized, df_test_standardized"
      ],
      "execution_count": 22,
      "outputs": []
    },
    {
      "cell_type": "markdown",
      "metadata": {
        "id": "l8V-XmFeAZxp"
      },
      "source": [
        "Transform training and test data\r\n"
      ]
    },
    {
      "cell_type": "code",
      "metadata": {
        "id": "6T9eYEkhAbZ7"
      },
      "source": [
        "#Using the above function implemented to make the traina dn test data distribution closer to a standard normal distribution.\r\n",
        "X_train_transformed, X_test_transformed= make_standard_normal(X_train, X_test)"
      ],
      "execution_count": 23,
      "outputs": []
    },
    {
      "cell_type": "code",
      "metadata": {
        "colab": {
          "base_uri": "https://localhost:8080/",
          "height": 204
        },
        "id": "fv09pJ65CvZC",
        "outputId": "789ebdeb-04c0-4239-83b0-30dc9d27681c"
      },
      "source": [
        "X_train_transformed.columns = X_train.columns\r\n",
        "X_test_transformed.columns  = X_test.columns\r\n",
        "X_train_transformed.head()"
      ],
      "execution_count": 24,
      "outputs": [
        {
          "output_type": "execute_result",
          "data": {
            "text/html": [
              "<div>\n",
              "<style scoped>\n",
              "    .dataframe tbody tr th:only-of-type {\n",
              "        vertical-align: middle;\n",
              "    }\n",
              "\n",
              "    .dataframe tbody tr th {\n",
              "        vertical-align: top;\n",
              "    }\n",
              "\n",
              "    .dataframe thead th {\n",
              "        text-align: right;\n",
              "    }\n",
              "</style>\n",
              "<table border=\"1\" class=\"dataframe\">\n",
              "  <thead>\n",
              "    <tr style=\"text-align: right;\">\n",
              "      <th></th>\n",
              "      <th>Pregancies</th>\n",
              "      <th>Glucose</th>\n",
              "      <th>Insulin</th>\n",
              "      <th>BMI</th>\n",
              "      <th>Age</th>\n",
              "    </tr>\n",
              "  </thead>\n",
              "  <tbody>\n",
              "    <tr>\n",
              "      <th>0</th>\n",
              "      <td>-1.200986</td>\n",
              "      <td>-0.933632</td>\n",
              "      <td>-0.150861</td>\n",
              "      <td>0.056057</td>\n",
              "      <td>-0.696284</td>\n",
              "    </tr>\n",
              "    <tr>\n",
              "      <th>1</th>\n",
              "      <td>1.249639</td>\n",
              "      <td>0.208870</td>\n",
              "      <td>-0.150861</td>\n",
              "      <td>0.056057</td>\n",
              "      <td>1.698173</td>\n",
              "    </tr>\n",
              "    <tr>\n",
              "      <th>2</th>\n",
              "      <td>-1.200986</td>\n",
              "      <td>-0.267275</td>\n",
              "      <td>-0.150861</td>\n",
              "      <td>-0.236237</td>\n",
              "      <td>-0.955538</td>\n",
              "    </tr>\n",
              "    <tr>\n",
              "      <th>3</th>\n",
              "      <td>1.092272</td>\n",
              "      <td>2.011904</td>\n",
              "      <td>-0.150861</td>\n",
              "      <td>1.097676</td>\n",
              "      <td>0.841849</td>\n",
              "    </tr>\n",
              "    <tr>\n",
              "      <th>4</th>\n",
              "      <td>-0.384111</td>\n",
              "      <td>1.147990</td>\n",
              "      <td>-0.150861</td>\n",
              "      <td>-0.004010</td>\n",
              "      <td>2.322107</td>\n",
              "    </tr>\n",
              "  </tbody>\n",
              "</table>\n",
              "</div>"
            ],
            "text/plain": [
              "   Pregancies   Glucose   Insulin       BMI       Age\n",
              "0   -1.200986 -0.933632 -0.150861  0.056057 -0.696284\n",
              "1    1.249639  0.208870 -0.150861  0.056057  1.698173\n",
              "2   -1.200986 -0.267275 -0.150861 -0.236237 -0.955538\n",
              "3    1.092272  2.011904 -0.150861  1.097676  0.841849\n",
              "4   -0.384111  1.147990 -0.150861 -0.004010  2.322107"
            ]
          },
          "metadata": {
            "tags": []
          },
          "execution_count": 24
        }
      ]
    },
    {
      "cell_type": "code",
      "metadata": {
        "colab": {
          "base_uri": "https://localhost:8080/"
        },
        "id": "Xp8wASnGCQam",
        "outputId": "1a0086a8-1a26-488e-ae5f-ba88f4b433bc"
      },
      "source": [
        "print(f\"Training set transformed  has mean {X_train_transformed.mean(axis=0)} and standard deviation {X_train_transformed.std(axis=0)} \")\r\n",
        "print(f\"Test set transformed,  has mean {X_test_transformed.mean(axis=0)} and standard deviation {X_test_transformed.std(axis=0)}\")\r\n",
        "print(f\"Skew of training set  before transformation: {X_train.skew(axis=0)}\")\r\n",
        "print(f\"Skew of training set  after transformation: {X_test_transformed.skew(axis=0)}\")\r\n",
        "print(f\"Skew of test set  before transformation: {X_test.skew(axis=0)}\")\r\n",
        "print(f\"Skew of test set  after transformation: {X_test_transformed.skew(axis=0)}\")"
      ],
      "execution_count": 25,
      "outputs": [
        {
          "output_type": "stream",
          "text": [
            "Training set transformed  has mean Pregancies    7.433667e-17\n",
            "Glucose       2.351983e-15\n",
            "Insulin      -1.657129e-15\n",
            "BMI           1.821248e-15\n",
            "Age           4.189885e-16\n",
            "dtype: float64 and standard deviation Pregancies    1.0\n",
            "Glucose       1.0\n",
            "Insulin       1.0\n",
            "BMI           1.0\n",
            "Age           1.0\n",
            "dtype: float64 \n",
            "Test set transformed,  has mean Pregancies    0.058582\n",
            "Glucose      -0.070246\n",
            "Insulin       0.019550\n",
            "BMI           0.043199\n",
            "Age           0.046414\n",
            "dtype: float64 and standard deviation Pregancies    1.019741\n",
            "Glucose       1.006484\n",
            "Insulin       1.041644\n",
            "BMI           1.017696\n",
            "Age           1.009348\n",
            "dtype: float64\n",
            "Skew of training set  before transformation: Pregancies    0.941575\n",
            "Glucose       0.560745\n",
            "Insulin       3.751531\n",
            "BMI           0.481512\n",
            "Age           1.152532\n",
            "dtype: float64\n",
            "Skew of training set  after transformation: Pregancies    0.058900\n",
            "Glucose       0.036736\n",
            "Insulin       0.095782\n",
            "BMI          -0.041064\n",
            "Age           0.588278\n",
            "dtype: float64\n",
            "Skew of test set  before transformation: Pregancies    0.841499\n",
            "Glucose       0.516882\n",
            "Insulin       2.839601\n",
            "BMI           0.757963\n",
            "Age           1.101066\n",
            "dtype: float64\n",
            "Skew of test set  after transformation: Pregancies    0.058900\n",
            "Glucose       0.036736\n",
            "Insulin       0.095782\n",
            "BMI          -0.041064\n",
            "Age           0.588278\n",
            "dtype: float64\n"
          ],
          "name": "stdout"
        }
      ]
    },
    {
      "cell_type": "markdown",
      "metadata": {
        "id": "Hatag71JHVwj"
      },
      "source": [
        "After transforming the training and test sets, the training is set to be  centered at zero with a standard deviation of  1\r\n",
        "\r\n",
        "Observing the test set during model training is avoided in order to avoid biasing the model training process. The distributions of the transformed training data can be looked at "
      ]
    },
    {
      "cell_type": "code",
      "metadata": {
        "colab": {
          "base_uri": "https://localhost:8080/",
          "height": 1000
        },
        "id": "yOU8z6NqHGj8",
        "outputId": "4b01a4de-5998-4740-a692-dfdd8749bc0a"
      },
      "source": [
        "for col in X_train_transformed.columns:\r\n",
        "    X_train_transformed[col].hist()\r\n",
        "    plt.title(col)\r\n",
        "    plt.show()"
      ],
      "execution_count": 26,
      "outputs": [
        {
          "output_type": "display_data",
          "data": {
            "image/png": "[encoded data removed]",
            "text/plain": [
              "<Figure size 432x288 with 1 Axes>"
            ]
          },
          "metadata": {
            "tags": [],
            "needs_background": "light"
          }
        },
        {
          "output_type": "display_data",
          "data": {
            "image/png": "[encoded data removed]",
            "text/plain": [
              "<Figure size 432x288 with 1 Axes>"
            ]
          },
          "metadata": {
            "tags": [],
            "needs_background": "light"
          }
        },
        {
          "output_type": "display_data",
          "data": {
            "image/png": "[encoded data removed]",
            "text/plain": [
              "<Figure size 432x288 with 1 Axes>"
            ]
          },
          "metadata": {
            "tags": [],
            "needs_background": "light"
          }
        },
        {
          "output_type": "display_data",
          "data": {
            "image/png": "[encoded data removed]",
            "text/plain": [
              "<Figure size 432x288 with 1 Axes>"
            ]
          },
          "metadata": {
            "tags": [],
            "needs_background": "light"
          }
        },
        {
          "output_type": "display_data",
          "data": {
            "image/png": "[encoded data removed]",
            "text/plain": [
              "<Figure size 432x288 with 1 Axes>"
            ]
          },
          "metadata": {
            "tags": [],
            "needs_background": "light"
          }
        }
      ]
    },
    {
      "cell_type": "code",
      "metadata": {
        "id": "ng41ovEeDLOK"
      },
      "source": [
        "# Find the mean and standard dev\r\n",
        "def statsitical_outlier_removal(X_train, X_test, col):\r\n",
        "    \"\"\"\r\n",
        "    Use statistical outlier removal- \r\n",
        "    remove data that sits more than three standard deviations away from the mean in both the directions. \r\n",
        "  \r\n",
        "    Args:\r\n",
        "      df_train (dataframe):  training data.\r\n",
        "      df_test (dataframe):  test data.\r\n",
        "  \r\n",
        "    Returns:\r\n",
        "      df_train_trimmed (dateframe): trimmed training data.\r\n",
        "      df_test_trimmed (dataframe):  trimmed test data.\r\n",
        "    \"\"\" \r\n",
        "    std = X_train[col].std()\r\n",
        "    mean = X_train[col].mean()\r\n",
        "\r\n",
        "    # Calculate the cutoff\r\n",
        "    cut_off = std * 3\r\n",
        "    lower, upper = mean - cut_off, mean+cut_off\r\n",
        "\r\n",
        "    # Trim the outliers\r\n",
        "    trimmed_df_train = X_train[(X_train[col] < upper) & (X_train[col] > lower)]\r\n",
        "    trimmed_df_test = X_test[(X_train[col] < upper) & (X_test[col] > lower)] #Applying statistical outlier removal on test data using mean and std of training data- as we assume we won't know anything about your upcoming/test data\r\n",
        "    return trimmed_df_train, trimmed_df_test"
      ],
      "execution_count": 27,
      "outputs": []
    },
    {
      "cell_type": "code",
      "metadata": {
        "colab": {
          "base_uri": "https://localhost:8080/"
        },
        "id": "sHZTDnxFBrco",
        "outputId": "cb67359b-5d1f-4e58-97a9-f60b3396e2be"
      },
      "source": [
        "for col in X_train_transformed.columns:\r\n",
        "    X_train, X_test=statsitical_outlier_removal(X_train_transformed,X_test_transformed,col)\r\n",
        "    X_train=pd.DataFrame(X_train)\r\n",
        "    X_test=pd.DataFrame(X_test)"
      ],
      "execution_count": 28,
      "outputs": [
        {
          "output_type": "stream",
          "text": [
            "/usr/local/lib/python3.6/dist-packages/ipykernel_launcher.py:24: UserWarning: Boolean Series key will be reindexed to match DataFrame index.\n",
            "/usr/local/lib/python3.6/dist-packages/ipykernel_launcher.py:24: UserWarning: Boolean Series key will be reindexed to match DataFrame index.\n",
            "/usr/local/lib/python3.6/dist-packages/ipykernel_launcher.py:24: UserWarning: Boolean Series key will be reindexed to match DataFrame index.\n",
            "/usr/local/lib/python3.6/dist-packages/ipykernel_launcher.py:24: UserWarning: Boolean Series key will be reindexed to match DataFrame index.\n",
            "/usr/local/lib/python3.6/dist-packages/ipykernel_launcher.py:24: UserWarning: Boolean Series key will be reindexed to match DataFrame index.\n"
          ],
          "name": "stderr"
        }
      ]
    },
    {
      "cell_type": "code",
      "metadata": {
        "colab": {
          "base_uri": "https://localhost:8080/",
          "height": 204
        },
        "id": "HrnOUab0pKZF",
        "outputId": "99307922-fa37-4189-f3d0-8cdfd0908109"
      },
      "source": [
        "X_train.head()"
      ],
      "execution_count": 29,
      "outputs": [
        {
          "output_type": "execute_result",
          "data": {
            "text/html": [
              "<div>\n",
              "<style scoped>\n",
              "    .dataframe tbody tr th:only-of-type {\n",
              "        vertical-align: middle;\n",
              "    }\n",
              "\n",
              "    .dataframe tbody tr th {\n",
              "        vertical-align: top;\n",
              "    }\n",
              "\n",
              "    .dataframe thead th {\n",
              "        text-align: right;\n",
              "    }\n",
              "</style>\n",
              "<table border=\"1\" class=\"dataframe\">\n",
              "  <thead>\n",
              "    <tr style=\"text-align: right;\">\n",
              "      <th></th>\n",
              "      <th>Pregancies</th>\n",
              "      <th>Glucose</th>\n",
              "      <th>Insulin</th>\n",
              "      <th>BMI</th>\n",
              "      <th>Age</th>\n",
              "    </tr>\n",
              "  </thead>\n",
              "  <tbody>\n",
              "    <tr>\n",
              "      <th>0</th>\n",
              "      <td>-1.200986</td>\n",
              "      <td>-0.933632</td>\n",
              "      <td>-0.150861</td>\n",
              "      <td>0.056057</td>\n",
              "      <td>-0.696284</td>\n",
              "    </tr>\n",
              "    <tr>\n",
              "      <th>1</th>\n",
              "      <td>1.249639</td>\n",
              "      <td>0.208870</td>\n",
              "      <td>-0.150861</td>\n",
              "      <td>0.056057</td>\n",
              "      <td>1.698173</td>\n",
              "    </tr>\n",
              "    <tr>\n",
              "      <th>2</th>\n",
              "      <td>-1.200986</td>\n",
              "      <td>-0.267275</td>\n",
              "      <td>-0.150861</td>\n",
              "      <td>-0.236237</td>\n",
              "      <td>-0.955538</td>\n",
              "    </tr>\n",
              "    <tr>\n",
              "      <th>3</th>\n",
              "      <td>1.092272</td>\n",
              "      <td>2.011904</td>\n",
              "      <td>-0.150861</td>\n",
              "      <td>1.097676</td>\n",
              "      <td>0.841849</td>\n",
              "    </tr>\n",
              "    <tr>\n",
              "      <th>4</th>\n",
              "      <td>-0.384111</td>\n",
              "      <td>1.147990</td>\n",
              "      <td>-0.150861</td>\n",
              "      <td>-0.004010</td>\n",
              "      <td>2.322107</td>\n",
              "    </tr>\n",
              "  </tbody>\n",
              "</table>\n",
              "</div>"
            ],
            "text/plain": [
              "   Pregancies   Glucose   Insulin       BMI       Age\n",
              "0   -1.200986 -0.933632 -0.150861  0.056057 -0.696284\n",
              "1    1.249639  0.208870 -0.150861  0.056057  1.698173\n",
              "2   -1.200986 -0.267275 -0.150861 -0.236237 -0.955538\n",
              "3    1.092272  2.011904 -0.150861  1.097676  0.841849\n",
              "4   -0.384111  1.147990 -0.150861 -0.004010  2.322107"
            ]
          },
          "metadata": {
            "tags": []
          },
          "execution_count": 29
        }
      ]
    },
    {
      "cell_type": "code",
      "metadata": {
        "colab": {
          "base_uri": "https://localhost:8080/",
          "height": 204
        },
        "id": "ueD40b6fOSCE",
        "outputId": "5f4ee6cd-37c0-48e7-d154-870d3495dea1"
      },
      "source": [
        "X_test.head()"
      ],
      "execution_count": 30,
      "outputs": [
        {
          "output_type": "execute_result",
          "data": {
            "text/html": [
              "<div>\n",
              "<style scoped>\n",
              "    .dataframe tbody tr th:only-of-type {\n",
              "        vertical-align: middle;\n",
              "    }\n",
              "\n",
              "    .dataframe tbody tr th {\n",
              "        vertical-align: top;\n",
              "    }\n",
              "\n",
              "    .dataframe thead th {\n",
              "        text-align: right;\n",
              "    }\n",
              "</style>\n",
              "<table border=\"1\" class=\"dataframe\">\n",
              "  <thead>\n",
              "    <tr style=\"text-align: right;\">\n",
              "      <th></th>\n",
              "      <th>Pregancies</th>\n",
              "      <th>Glucose</th>\n",
              "      <th>Insulin</th>\n",
              "      <th>BMI</th>\n",
              "      <th>Age</th>\n",
              "    </tr>\n",
              "  </thead>\n",
              "  <tbody>\n",
              "    <tr>\n",
              "      <th>0</th>\n",
              "      <td>0.910605</td>\n",
              "      <td>-0.766587</td>\n",
              "      <td>1.039854</td>\n",
              "      <td>0.345551</td>\n",
              "      <td>0.989936</td>\n",
              "    </tr>\n",
              "    <tr>\n",
              "      <th>1</th>\n",
              "      <td>-0.384111</td>\n",
              "      <td>-0.231324</td>\n",
              "      <td>-0.150861</td>\n",
              "      <td>0.578534</td>\n",
              "      <td>-1.238392</td>\n",
              "    </tr>\n",
              "    <tr>\n",
              "      <th>2</th>\n",
              "      <td>-0.384111</td>\n",
              "      <td>-0.377104</td>\n",
              "      <td>-0.150861</td>\n",
              "      <td>-0.126457</td>\n",
              "      <td>-1.238392</td>\n",
              "    </tr>\n",
              "    <tr>\n",
              "      <th>3</th>\n",
              "      <td>1.249639</td>\n",
              "      <td>-0.414393</td>\n",
              "      <td>-0.150861</td>\n",
              "      <td>-1.199771</td>\n",
              "      <td>0.259762</td>\n",
              "    </tr>\n",
              "    <tr>\n",
              "      <th>4</th>\n",
              "      <td>1.092272</td>\n",
              "      <td>0.546953</td>\n",
              "      <td>-0.150861</td>\n",
              "      <td>-0.268072</td>\n",
              "      <td>1.458882</td>\n",
              "    </tr>\n",
              "  </tbody>\n",
              "</table>\n",
              "</div>"
            ],
            "text/plain": [
              "   Pregancies   Glucose   Insulin       BMI       Age\n",
              "0    0.910605 -0.766587  1.039854  0.345551  0.989936\n",
              "1   -0.384111 -0.231324 -0.150861  0.578534 -1.238392\n",
              "2   -0.384111 -0.377104 -0.150861 -0.126457 -1.238392\n",
              "3    1.249639 -0.414393 -0.150861 -1.199771  0.259762\n",
              "4    1.092272  0.546953 -0.150861 -0.268072  1.458882"
            ]
          },
          "metadata": {
            "tags": []
          },
          "execution_count": 30
        }
      ]
    },
    {
      "cell_type": "markdown",
      "metadata": {
        "id": "akqCzam2GAPb"
      },
      "source": [
        "###K-Nearest Neighbors Classification (knn)"
      ]
    },
    {
      "cell_type": "code",
      "metadata": {
        "id": "MSLMmPasgDV_"
      },
      "source": [
        "# Import KNN\r\n",
        "from sklearn.neighbors import KNeighborsClassifier"
      ],
      "execution_count": 31,
      "outputs": []
    },
    {
      "cell_type": "code",
      "metadata": {
        "colab": {
          "base_uri": "https://localhost:8080/",
          "height": 295
        },
        "id": "hjWDghzCfgT0",
        "outputId": "a452779b-a047-4f12-8917-81357fef22e3"
      },
      "source": [
        "neighbors = np.arange(1, 20)\r\n",
        "train_accuracy = np.empty(len(neighbors))\r\n",
        "test_accuracy = np.empty(len(neighbors))\r\n",
        "\r\n",
        "# Loop over different values of k\r\n",
        "for i, k in enumerate(neighbors):\r\n",
        "    # Setup a k-NN Classifier with k neighbors: knn\r\n",
        "    knn = KNeighborsClassifier(n_neighbors=k)\r\n",
        "\r\n",
        "    # Fit the classifier to the training data\r\n",
        "    knn.fit(X_train,y_train)\r\n",
        "    \r\n",
        "    #Compute accuracy on the training set\r\n",
        "    train_accuracy[i] = knn.score(X_train,y_train)\r\n",
        "\r\n",
        "    #Compute accuracy on the testing set of the classifier's predictions\r\n",
        "    test_accuracy[i] = knn.score(X_test, y_test)\r\n",
        "\r\n",
        "# Generate plot\r\n",
        "plt.title('k-NN: Varying Number of Neighbors')\r\n",
        "plt.plot(neighbors, test_accuracy, label = 'Testing Accuracy')\r\n",
        "plt.plot(neighbors, train_accuracy, label = 'Training Accuracy')\r\n",
        "plt.legend()\r\n",
        "plt.xlabel('Number of Neighbors')\r\n",
        "plt.ylabel('Accuracy')\r\n",
        "plt.show()\r\n"
      ],
      "execution_count": 32,
      "outputs": [
        {
          "output_type": "display_data",
          "data": {
            "image/png": "[encoded data removed]",
            "text/plain": [
              "<Figure size 432x288 with 1 Axes>"
            ]
          },
          "metadata": {
            "tags": [],
            "needs_background": "light"
          }
        }
      ]
    },
    {
      "cell_type": "markdown",
      "metadata": {
        "id": "M43fISUkYaxe"
      },
      "source": [
        "Hyperparameter tuning "
      ]
    },
    {
      "cell_type": "code",
      "metadata": {
        "colab": {
          "base_uri": "https://localhost:8080/"
        },
        "id": "jUy48CvTYZfp",
        "outputId": "5598f369-6292-4b2e-a21a-1cb44cde2651"
      },
      "source": [
        "# Import necessary modules\r\n",
        "from sklearn.model_selection import GridSearchCV\r\n",
        "\r\n",
        "# Setup the hyperparameter grid\r\n",
        "param_grid = {'n_neighbors': np.arange(1,20)}\r\n",
        "\r\n",
        "# Instantiate a logistic regression classifier: logreg\r\n",
        "knn = KNeighborsClassifier()\r\n",
        "\r\n",
        "# Instantiate the GridSearchCV object: logreg_cv\r\n",
        "knn_cv = GridSearchCV(knn, param_grid, cv=5)\r\n",
        "\r\n",
        "# Fit it to the data\r\n",
        "knn_cv.fit(X_train,y_train)\r\n",
        "\r\n",
        "# Print the tuned parameters and score\r\n",
        "print(\"Tuned Logistic Regression Parameters: {}\".format(knn_cv.best_params_)) \r\n",
        "print(\"Best score is {}\".format(knn_cv.best_score_))"
      ],
      "execution_count": 33,
      "outputs": [
        {
          "output_type": "stream",
          "text": [
            "Tuned Logistic Regression Parameters: {'n_neighbors': 7}\n",
            "Best score is 0.7717391304347826\n"
          ],
          "name": "stdout"
        }
      ]
    },
    {
      "cell_type": "markdown",
      "metadata": {
        "id": "zLn0ayjoEuJ9"
      },
      "source": [
        "Evaluating model performance"
      ]
    },
    {
      "cell_type": "code",
      "metadata": {
        "colab": {
          "base_uri": "https://localhost:8080/"
        },
        "id": "JCrOvpsJeqrU",
        "outputId": "810aa25c-3b60-4b36-9429-cd147a6cf47c"
      },
      "source": [
        "# Evaluating a model with tuned hyperparameters on a hold-out set\r\n",
        "from sklearn.metrics import confusion_matrix\r\n",
        "from sklearn.metrics import classification_report\r\n",
        "# Predict the labels of the test data: y_pred\r\n",
        "y_pred = knn_cv.predict(X_test)\r\n",
        "#Compute the accuracy of the classification model\r\n",
        "print(\"model score: %.3f\" % knn_cv.score(X_test, y_test))\r\n",
        "# Generate the confusion matrix and classification report\r\n",
        "print(confusion_matrix(y_test, y_pred))\r\n",
        "print(classification_report(y_test, y_pred))"
      ],
      "execution_count": 34,
      "outputs": [
        {
          "output_type": "stream",
          "text": [
            "model score: 0.747\n",
            "[[165  41]\n",
            " [ 37  65]]\n",
            "              precision    recall  f1-score   support\n",
            "\n",
            "           0       0.82      0.80      0.81       206\n",
            "           1       0.61      0.64      0.62       102\n",
            "\n",
            "    accuracy                           0.75       308\n",
            "   macro avg       0.72      0.72      0.72       308\n",
            "weighted avg       0.75      0.75      0.75       308\n",
            "\n"
          ],
          "name": "stdout"
        }
      ]
    },
    {
      "cell_type": "code",
      "metadata": {
        "colab": {
          "base_uri": "https://localhost:8080/",
          "height": 312
        },
        "id": "ybrFCQBDLGaC",
        "outputId": "e1830eba-7993-4421-af40-2d7348067bf2"
      },
      "source": [
        "# Import necessary modules\r\n",
        "from sklearn.metrics import roc_curve, roc_auc_score\r\n",
        "# Compute predicted probabilities: y_pred_prob\r\n",
        "y_pred_prob = knn_cv.predict_proba(X_test)[:,1] #chose the second column, index=1 which is the prob of predicted label being 1\r\n",
        "auc_value=roc_auc_score(y_test, y_pred)\r\n",
        "print(\"AUC: {}\".format(auc_value))\r\n",
        "# Generate ROC curve values: fpr, tpr, thresholds\r\n",
        "fpr, tpr, thresholds = roc_curve(y_test, y_pred_prob)\r\n",
        "# Plot ROC curve\r\n",
        "plt.plot([0, 1], [0, 1], 'k--')\r\n",
        "plt.plot(fpr, tpr, label='(area = {:.3f})'.format(auc_value)) #ROC curve provides a nice visual way to assess  classifier's performance\r\n",
        "plt.xlabel('False Positive Rate')\r\n",
        "plt.ylabel('True Positive Rate')\r\n",
        "plt.title('ROC Curve')\r\n",
        "plt.legend(loc='best')\r\n",
        "plt.show()"
      ],
      "execution_count": 35,
      "outputs": [
        {
          "output_type": "stream",
          "text": [
            "AUC: 0.719112887873596\n"
          ],
          "name": "stdout"
        },
        {
          "output_type": "display_data",
          "data": {
            "image/png": "[encoded data removed]",
            "text/plain": [
              "<Figure size 432x288 with 1 Axes>"
            ]
          },
          "metadata": {
            "tags": [],
            "needs_background": "light"
          }
        }
      ]
    },
    {
      "cell_type": "markdown",
      "metadata": {
        "id": "aDCx0HE9F49h"
      },
      "source": [
        "###Logistic Regression"
      ]
    },
    {
      "cell_type": "code",
      "metadata": {
        "id": "dr1UwpfzdtS-"
      },
      "source": [
        "#Import Logisitc Regression\r\n",
        "from sklearn.linear_model import LogisticRegression"
      ],
      "execution_count": 36,
      "outputs": []
    },
    {
      "cell_type": "markdown",
      "metadata": {
        "id": "x6YwOOpwdhwy"
      },
      "source": [
        "Hyperparameter tuning"
      ]
    },
    {
      "cell_type": "code",
      "metadata": {
        "colab": {
          "base_uri": "https://localhost:8080/"
        },
        "id": "QUSBO61FY5tz",
        "outputId": "2430af64-bf4e-40ae-b9f0-6c585e36dcc2"
      },
      "source": [
        "#Logistic regression also has a regularization parameter: C controls the inverse of the regularization strength. \r\n",
        "#A large C can lead to an overfit model, while a small  can lead to an underfit model.\r\n",
        "\r\n",
        "# Create the hyperparameter grid\r\n",
        "\r\n",
        "param_grid = {'C': np.logspace(-5, 8, 15)}\r\n",
        "\r\n",
        "# Instantiate the logistic regression classifier: logreg\r\n",
        "logreg = LogisticRegression(max_iter=4000)\r\n",
        "\r\n",
        "# Instantiate the GridSearchCV object: logreg_cv\r\n",
        "logreg_cv = GridSearchCV(logreg,param_grid,cv=5)\r\n",
        "\r\n",
        "# Fit it to the training data\r\n",
        "logreg_cv.fit(X_train,y_train)\r\n",
        "\r\n",
        "# Print the optimal parameters and best score\r\n",
        "print(\"Tuned Logistic Regression Parameter: {}\".format(logreg_cv.best_params_))\r\n",
        "print(\"Tuned Logistic Regression Accuracy: {}\".format(logreg_cv.best_score_))\r\n"
      ],
      "execution_count": 37,
      "outputs": [
        {
          "output_type": "stream",
          "text": [
            "Tuned Logistic Regression Parameter: {'C': 0.05179474679231213}\n",
            "Tuned Logistic Regression Accuracy: 0.7652173913043478\n"
          ],
          "name": "stdout"
        }
      ]
    },
    {
      "cell_type": "markdown",
      "metadata": {
        "id": "5pz2GpCAee7m"
      },
      "source": [
        "Evaluating performance\r\n"
      ]
    },
    {
      "cell_type": "code",
      "metadata": {
        "colab": {
          "base_uri": "https://localhost:8080/"
        },
        "id": "grsHlYX60l7U",
        "outputId": "e7334714-ab7a-40ab-f70d-9af297a9afb8"
      },
      "source": [
        "#Evaluating a model with tuned hyperparameters on a hold-out set\r\n",
        "# Predict the labels of the test set: y_pred\r\n",
        "y_pred = logreg_cv.predict(X_test)\r\n",
        "# Compute and print the confusion matrix and classification report\r\n",
        "print(confusion_matrix(y_test, y_pred))\r\n",
        "print(classification_report(y_test, y_pred))"
      ],
      "execution_count": 38,
      "outputs": [
        {
          "output_type": "stream",
          "text": [
            "[[173  33]\n",
            " [ 41  61]]\n",
            "              precision    recall  f1-score   support\n",
            "\n",
            "           0       0.81      0.84      0.82       206\n",
            "           1       0.65      0.60      0.62       102\n",
            "\n",
            "    accuracy                           0.76       308\n",
            "   macro avg       0.73      0.72      0.72       308\n",
            "weighted avg       0.76      0.76      0.76       308\n",
            "\n"
          ],
          "name": "stdout"
        }
      ]
    },
    {
      "cell_type": "code",
      "metadata": {
        "colab": {
          "base_uri": "https://localhost:8080/",
          "height": 312
        },
        "id": "8HDdvud07wzX",
        "outputId": "bb00dd1d-bfc6-4011-e097-4b700120698d"
      },
      "source": [
        "# Compute predicted probabilities: y_pred_prob\r\n",
        "y_pred_prob = logreg_cv.predict_proba(X_test)[:,1] \r\n",
        "auc_value=roc_auc_score(y_test, y_pred)\r\n",
        "print(\"AUC: {}\".format(auc_value))\r\n",
        "# Generate ROC curve values: fpr, tpr, thresholds\r\n",
        "fpr, tpr, thresholds = roc_curve(y_test, y_pred_prob)\r\n",
        "# Plot ROC curve\r\n",
        "plt.plot([0, 1], [0, 1], 'k--')\r\n",
        "plt.plot(fpr, tpr, label='(area = {:.3f})'.format(auc_value)) \r\n",
        "plt.xlabel('False Positive Rate')\r\n",
        "plt.ylabel('True Positive Rate')\r\n",
        "plt.title('ROC Curve')\r\n",
        "plt.legend(loc='best')\r\n",
        "plt.show()"
      ],
      "execution_count": 39,
      "outputs": [
        {
          "output_type": "stream",
          "text": [
            "AUC: 0.7189225204644965\n"
          ],
          "name": "stdout"
        },
        {
          "output_type": "display_data",
          "data": {
            "image/png": "[encoded data removed]",
            "text/plain": [
              "<Figure size 432x288 with 1 Axes>"
            ]
          },
          "metadata": {
            "tags": [],
            "needs_background": "light"
          }
        }
      ]
    },
    {
      "cell_type": "markdown",
      "metadata": {
        "id": "sLEIbKhOkdDv"
      },
      "source": [
        "###Decision Trees"
      ]
    },
    {
      "cell_type": "code",
      "metadata": {
        "id": "4mi3kHDxlwC1"
      },
      "source": [
        "#Import Decision Tree\r\n",
        "from sklearn.tree import DecisionTreeClassifier"
      ],
      "execution_count": 40,
      "outputs": []
    },
    {
      "cell_type": "markdown",
      "metadata": {
        "id": "D0LjwWyCl01o"
      },
      "source": [
        "Hyperparameter tuning"
      ]
    },
    {
      "cell_type": "code",
      "metadata": {
        "colab": {
          "base_uri": "https://localhost:8080/"
        },
        "id": "z46gzKxik-bV",
        "outputId": "a72636ed-50bf-427c-eb2a-a152512fb5ba"
      },
      "source": [
        "# Import necessary modules\r\n",
        "from scipy.stats import randint\r\n",
        "\r\n",
        "from sklearn.model_selection import RandomizedSearchCV\r\n",
        "\r\n",
        "# Setup the parameters and distributions to sample from: param_dist\r\n",
        "param_dist = {\"max_depth\": [3, None],\r\n",
        "              \"max_features\": randint(1, 4),\r\n",
        "              \"min_samples_leaf\": randint(1, 9),\r\n",
        "              \"criterion\": [\"gini\", \"entropy\"]}\r\n",
        "\r\n",
        "# Instantiate a Decision Tree classifier: tree\r\n",
        "tree = DecisionTreeClassifier()\r\n",
        "\r\n",
        "# Instantiate the RandomizedSearchCV object: tree_cv\r\n",
        "# #RandomizedSearchCV will never outperform GridSearchCV. Instead, it is valuable because it saves on computation time.\r\n",
        "tree_cv = RandomizedSearchCV(tree, param_dist, cv=5)\r\n",
        "\r\n",
        "# Fit it to the data\r\n",
        "tree_cv.fit(X_train,y_train)\r\n",
        "\r\n",
        "# Print the tuned parameters and score\r\n",
        "print(\"Tuned Decision Tree Parameters: {}\".format(tree_cv.best_params_))\r\n",
        "print(\"Best score is {}\".format(tree_cv.best_score_))"
      ],
      "execution_count": 41,
      "outputs": [
        {
          "output_type": "stream",
          "text": [
            "Tuned Decision Tree Parameters: {'criterion': 'gini', 'max_depth': 3, 'max_features': 1, 'min_samples_leaf': 3}\n",
            "Best score is 0.726086956521739\n"
          ],
          "name": "stdout"
        }
      ]
    },
    {
      "cell_type": "markdown",
      "metadata": {
        "id": "yb1QcK-Wl9qY"
      },
      "source": [
        "Evaluating the model"
      ]
    },
    {
      "cell_type": "code",
      "metadata": {
        "colab": {
          "base_uri": "https://localhost:8080/"
        },
        "id": "KwzfjLNalCTv",
        "outputId": "546af0fb-b97a-4a11-ee09-790b1717e0ca"
      },
      "source": [
        "# Evaluating a model with tuned hyperparameters on a hold-out set\r\n",
        "#Predict the labels of the test set: y_pred\r\n",
        "y_pred = tree_cv.predict(X_test)\r\n",
        "#Compute the accuracy of the classification model\r\n",
        "print(\"model score: %.3f\" % tree_cv.score(X_test, y_test))\r\n",
        "# Generate the confusion matrix and classification report\r\n",
        "print(confusion_matrix(y_test, y_pred))\r\n",
        "print(classification_report(y_test, y_pred))"
      ],
      "execution_count": 42,
      "outputs": [
        {
          "output_type": "stream",
          "text": [
            "model score: 0.643\n",
            "[[159  47]\n",
            " [ 63  39]]\n",
            "              precision    recall  f1-score   support\n",
            "\n",
            "           0       0.72      0.77      0.74       206\n",
            "           1       0.45      0.38      0.41       102\n",
            "\n",
            "    accuracy                           0.64       308\n",
            "   macro avg       0.58      0.58      0.58       308\n",
            "weighted avg       0.63      0.64      0.63       308\n",
            "\n"
          ],
          "name": "stdout"
        }
      ]
    },
    {
      "cell_type": "code",
      "metadata": {
        "colab": {
          "base_uri": "https://localhost:8080/",
          "height": 312
        },
        "id": "U-OVyhdCIUWH",
        "outputId": "6be083f2-aa7a-4133-eed1-8e0f21856b2b"
      },
      "source": [
        "# Compute predicted probabilities: y_pred_prob\r\n",
        "y_pred_prob = tree_cv.predict_proba(X_test)[:,1] \r\n",
        "auc_value=roc_auc_score(y_test, y_pred)\r\n",
        "print(\"AUC: {}\".format(auc_value))\r\n",
        "# Generate ROC curve values: fpr, tpr, thresholds\r\n",
        "fpr, tpr, thresholds = roc_curve(y_test, y_pred_prob)\r\n",
        "# Plot ROC curve\r\n",
        "plt.plot([0, 1], [0, 1], 'k--')\r\n",
        "plt.plot(fpr, tpr, label='(area = {:.3f})'.format(auc_value)) \r\n",
        "plt.xlabel('False Positive Rate')\r\n",
        "plt.ylabel('True Positive Rate')\r\n",
        "plt.title('ROC Curve')\r\n",
        "plt.legend(loc='best')\r\n",
        "plt.show()"
      ],
      "execution_count": 43,
      "outputs": [
        {
          "output_type": "stream",
          "text": [
            "AUC: 0.5770988006853227\n"
          ],
          "name": "stdout"
        },
        {
          "output_type": "display_data",
          "data": {
            "image/png": "[encoded data removed]",
            "text/plain": [
              "<Figure size 432x288 with 1 Axes>"
            ]
          },
          "metadata": {
            "tags": [],
            "needs_background": "light"
          }
        }
      ]
    },
    {
      "cell_type": "markdown",
      "metadata": {
        "id": "twijisP-7n40"
      },
      "source": [
        "### Random Forest Classifier"
      ]
    },
    {
      "cell_type": "code",
      "metadata": {
        "id": "Vh5I8wNN8qG8"
      },
      "source": [
        "# Import the necessary modules\r\n",
        "from sklearn.ensemble import RandomForestClassifier"
      ],
      "execution_count": 44,
      "outputs": []
    },
    {
      "cell_type": "markdown",
      "metadata": {
        "id": "c3zgcw6789bD"
      },
      "source": [
        "Hypertuning"
      ]
    },
    {
      "cell_type": "code",
      "metadata": {
        "id": "zyUMPtXtVFN1",
        "colab": {
          "base_uri": "https://localhost:8080/"
        },
        "outputId": "f1d23e4d-ffb5-4754-e6a2-dfff44ecb5cc"
      },
      "source": [
        "# Set a range for n_estimators from 10 to 40 in steps of 10\r\n",
        "param_grid = {'n_estimators': range(10, 50, 10)}\r\n",
        "# Optimize for a RandomForestClassifier() using GridSearchCV\r\n",
        "rf = GridSearchCV(RandomForestClassifier(), param_grid, cv=5)\r\n",
        "rf.fit(X_train, y_train)\r\n",
        "# Print the tuned parameters and score\r\n",
        "print(\"Tuned Decision Tree Parameters: {}\".format(rf.best_params_))\r\n",
        "print(\"Best score is {}\".format(rf.best_score_))"
      ],
      "execution_count": 45,
      "outputs": [
        {
          "output_type": "stream",
          "text": [
            "Tuned Decision Tree Parameters: {'n_estimators': 40}\n",
            "Best score is 0.75\n"
          ],
          "name": "stdout"
        }
      ]
    },
    {
      "cell_type": "markdown",
      "metadata": {
        "id": "FKGNqI6-9KVP"
      },
      "source": [
        "Evalution of the model"
      ]
    },
    {
      "cell_type": "code",
      "metadata": {
        "colab": {
          "base_uri": "https://localhost:8080/"
        },
        "id": "pDkPk1aP7_Da",
        "outputId": "bea8375a-218f-4b44-a6a1-345e262dede3"
      },
      "source": [
        "# Evaluating a model with tuned hyperparameters on a hold-out set\r\n",
        "#Predict the labels of the test set: y_pred\r\n",
        "y_pred = rf.predict(X_test)\r\n",
        "#Compute the accuracy of the classification model\r\n",
        "print(\"model score: %.3f\" % rf.score(X_test, y_test))\r\n",
        "# Generate the confusion matrix and classification report\r\n",
        "print(confusion_matrix(y_test, y_pred))\r\n",
        "print(classification_report(y_test, y_pred))"
      ],
      "execution_count": 46,
      "outputs": [
        {
          "output_type": "stream",
          "text": [
            "model score: 0.776\n",
            "[[169  37]\n",
            " [ 32  70]]\n",
            "              precision    recall  f1-score   support\n",
            "\n",
            "           0       0.84      0.82      0.83       206\n",
            "           1       0.65      0.69      0.67       102\n",
            "\n",
            "    accuracy                           0.78       308\n",
            "   macro avg       0.75      0.75      0.75       308\n",
            "weighted avg       0.78      0.78      0.78       308\n",
            "\n"
          ],
          "name": "stdout"
        }
      ]
    },
    {
      "cell_type": "code",
      "metadata": {
        "colab": {
          "base_uri": "https://localhost:8080/",
          "height": 312
        },
        "id": "Ku5cxEEIHiYk",
        "outputId": "d65dbfa8-b597-48b6-bb24-332c4cb0f824"
      },
      "source": [
        "# Compute predicted probabilities: y_pred_prob\r\n",
        "y_pred_prob = rf.predict_proba(X_test)[:,1] \r\n",
        "auc_value=roc_auc_score(y_test, y_pred)\r\n",
        "print(\"AUC: {}\".format(auc_value))\r\n",
        "# Generate ROC curve values: fpr, tpr, thresholds\r\n",
        "fpr, tpr, thresholds = roc_curve(y_test, y_pred_prob)\r\n",
        "# Plot ROC curve\r\n",
        "plt.plot([0, 1], [0, 1], 'k--')\r\n",
        "plt.plot(fpr, tpr, label='(area = {:.3f})'.format(auc_value)) \r\n",
        "plt.xlabel('False Positive Rate')\r\n",
        "plt.ylabel('True Positive Rate')\r\n",
        "plt.title('ROC Curve')\r\n",
        "plt.legend(loc='best')\r\n",
        "plt.show()"
      ],
      "execution_count": 47,
      "outputs": [
        {
          "output_type": "stream",
          "text": [
            "AUC: 0.7533314296592423\n"
          ],
          "name": "stdout"
        },
        {
          "output_type": "display_data",
          "data": {
            "image/png": "[encoded data removed]",
            "text/plain": [
              "<Figure size 432x288 with 1 Axes>"
            ]
          },
          "metadata": {
            "tags": [],
            "needs_background": "light"
          }
        }
      ]
    },
    {
      "cell_type": "markdown",
      "metadata": {
        "id": "EH0WlQ_qHip7"
      },
      "source": [
        "###Support vector machine (SVM)"
      ]
    },
    {
      "cell_type": "code",
      "metadata": {
        "id": "CzDjRH4tHpJw"
      },
      "source": [
        "# Import the necessary modules\r\n",
        "from sklearn.svm import SVC #Support vector classifier type of SVM"
      ],
      "execution_count": 48,
      "outputs": []
    },
    {
      "cell_type": "markdown",
      "metadata": {
        "id": "zebFjYXU9GxQ"
      },
      "source": [
        "Hypertuning"
      ]
    },
    {
      "cell_type": "code",
      "metadata": {
        "id": "E17GR3YlHia4"
      },
      "source": [
        "#SVM classification\r\n",
        "\r\n",
        "# Specify the hyperparameter space\r\n",
        "parameters = {'C':[1, 10, 100], #  C controls the regularization strength\r\n",
        "              'gamma':[0.1, 0.01],\r\n",
        "              'kernel':['linear', 'poly', 'rbf', 'sigmoid']\r\n",
        "              } #Gamma controls the kernel coefficient\r\n",
        "\r\n",
        "# Instantiate the GridSearchCV object: cv\r\n",
        "clf = GridSearchCV(SVC(probability=True), parameters, cv=5)\r\n",
        "\r\n",
        "# Fit to the training set\r\n",
        "clf.fit(X_train,y_train)\r\n",
        "\r\n",
        "# Predict the labels of the test set: y_pred\r\n",
        "y_pred = clf.predict(X_test)"
      ],
      "execution_count": 49,
      "outputs": []
    },
    {
      "cell_type": "markdown",
      "metadata": {
        "id": "3sIIfarG9Pnm"
      },
      "source": [
        "Evalution of the model"
      ]
    },
    {
      "cell_type": "code",
      "metadata": {
        "colab": {
          "base_uri": "https://localhost:8080/"
        },
        "id": "QlOtugw89PHi",
        "outputId": "32c87579-ecb5-4679-a1b3-cf03094f30c1"
      },
      "source": [
        "# Compute and print metrics\r\n",
        "print(\"Accuracy: {}\".format(clf.score(X_test, y_test)))\r\n",
        "# Generate the confusion matrix and classification report\r\n",
        "print(confusion_matrix(y_test, y_pred))\r\n",
        "print(classification_report(y_test, y_pred))\r\n",
        "print(\"Tuned Model Parameters: {}\".format(clf.best_params_))"
      ],
      "execution_count": 50,
      "outputs": [
        {
          "output_type": "stream",
          "text": [
            "Accuracy: 0.7662337662337663\n",
            "[[173  33]\n",
            " [ 39  63]]\n",
            "              precision    recall  f1-score   support\n",
            "\n",
            "           0       0.82      0.84      0.83       206\n",
            "           1       0.66      0.62      0.64       102\n",
            "\n",
            "    accuracy                           0.77       308\n",
            "   macro avg       0.74      0.73      0.73       308\n",
            "weighted avg       0.76      0.77      0.76       308\n",
            "\n",
            "Tuned Model Parameters: {'C': 1, 'gamma': 0.01, 'kernel': 'rbf'}\n"
          ],
          "name": "stdout"
        }
      ]
    },
    {
      "cell_type": "code",
      "metadata": {
        "colab": {
          "base_uri": "https://localhost:8080/",
          "height": 312
        },
        "id": "i8DwjyyeHxB8",
        "outputId": "097dfbfb-a4aa-4b14-edfe-94b6ad54b3ab"
      },
      "source": [
        "# Compute predicted probabilities: y_pred_prob\r\n",
        "y_pred_prob = clf.predict_proba(X_test)[:,1] \r\n",
        "auc_value=roc_auc_score(y_test, y_pred)\r\n",
        "print(\"AUC: {}\".format(auc_value))\r\n",
        "# Generate ROC curve values: fpr, tpr, thresholds\r\n",
        "fpr, tpr, thresholds = roc_curve(y_test, y_pred_prob)\r\n",
        "# Plot ROC curve\r\n",
        "plt.plot([0, 1], [0, 1], 'k--')\r\n",
        "plt.plot(fpr, tpr, label='(area = {:.3f})'.format(auc_value))\r\n",
        "plt.xlabel('False Positive Rate')\r\n",
        "plt.ylabel('True Positive Rate')\r\n",
        "plt.title('ROC Curve')\r\n",
        "plt.legend(loc='best')\r\n",
        "plt.show()"
      ],
      "execution_count": 51,
      "outputs": [
        {
          "output_type": "stream",
          "text": [
            "AUC: 0.7287264420331239\n"
          ],
          "name": "stdout"
        },
        {
          "output_type": "display_data",
          "data": {
            "image/png": "[encoded data removed]",
            "text/plain": [
              "<Figure size 432x288 with 1 Axes>"
            ]
          },
          "metadata": {
            "tags": [],
            "needs_background": "light"
          }
        }
      ]
    }
  ]
}