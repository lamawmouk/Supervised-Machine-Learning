{
  "nbformat": 4,
  "nbformat_minor": 0,
  "metadata": {
    "colab": {
      "name": "PIMA-Indians-diabetes.ipynb",
      "provenance": [],
      "collapsed_sections": []
    },
    "kernelspec": {
      "name": "python3",
      "display_name": "Python 3"
    }
  },
  "cells": [
    {
      "cell_type": "markdown",
      "metadata": {
        "id": "lKtu-9Ryc2Rm"
      },
      "source": [
        "##Classification using the PIMA dataset"
      ]
    },
    {
      "cell_type": "markdown",
      "metadata": {
        "id": "ILK89nnrcqXk"
      },
      "source": [
        "The PIMA Indians dataset obtained from the UCI Machine Learning Repository. The goal is to predict whether or not a given female patient will contract diabetes based on features such as BMI, age, and number of pregnancies. Therefore, it is a binary classification problem. A target value of 0 indicates that the patient does not have diabetes, while a value of 1 indicates that the patient does have diabetes."
      ]
    },
    {
      "cell_type": "code",
      "metadata": {
        "id": "BlYOcz6MgQcl"
      },
      "source": [
        "import pandas as pd\r\n",
        "import numpy as np\r\n",
        "import matplotlib.pyplot as plt"
      ],
      "execution_count": 2,
      "outputs": []
    },
    {
      "cell_type": "code",
      "metadata": {
        "id": "tXQMDnZAaMj8"
      },
      "source": [
        "col_names=['pregnancies',  'glucose', 'diastolic','triceps','insulin', 'bmi', 'dpf','age','diabetes']\r\n",
        "df=pd.read_csv('pima-indians-diabetes.csv', names=col_names,header=None)"
      ],
      "execution_count": 3,
      "outputs": []
    },
    {
      "cell_type": "code",
      "metadata": {
        "colab": {
          "base_uri": "https://localhost:8080/",
          "height": 204
        },
        "id": "m1P5-Z3-bDhz",
        "outputId": "4874af61-627b-4730-9130-ed41ca691533"
      },
      "source": [
        "df.head()"
      ],
      "execution_count": 4,
      "outputs": [
        {
          "output_type": "execute_result",
          "data": {
            "text/html": [
              "<div>\n",
              "<style scoped>\n",
              "    .dataframe tbody tr th:only-of-type {\n",
              "        vertical-align: middle;\n",
              "    }\n",
              "\n",
              "    .dataframe tbody tr th {\n",
              "        vertical-align: top;\n",
              "    }\n",
              "\n",
              "    .dataframe thead th {\n",
              "        text-align: right;\n",
              "    }\n",
              "</style>\n",
              "<table border=\"1\" class=\"dataframe\">\n",
              "  <thead>\n",
              "    <tr style=\"text-align: right;\">\n",
              "      <th></th>\n",
              "      <th>pregnancies</th>\n",
              "      <th>glucose</th>\n",
              "      <th>diastolic</th>\n",
              "      <th>triceps</th>\n",
              "      <th>insulin</th>\n",
              "      <th>bmi</th>\n",
              "      <th>dpf</th>\n",
              "      <th>age</th>\n",
              "      <th>diabetes</th>\n",
              "    </tr>\n",
              "  </thead>\n",
              "  <tbody>\n",
              "    <tr>\n",
              "      <th>0</th>\n",
              "      <td>6</td>\n",
              "      <td>148</td>\n",
              "      <td>72</td>\n",
              "      <td>35</td>\n",
              "      <td>0</td>\n",
              "      <td>33.6</td>\n",
              "      <td>0.627</td>\n",
              "      <td>50</td>\n",
              "      <td>1</td>\n",
              "    </tr>\n",
              "    <tr>\n",
              "      <th>1</th>\n",
              "      <td>1</td>\n",
              "      <td>85</td>\n",
              "      <td>66</td>\n",
              "      <td>29</td>\n",
              "      <td>0</td>\n",
              "      <td>26.6</td>\n",
              "      <td>0.351</td>\n",
              "      <td>31</td>\n",
              "      <td>0</td>\n",
              "    </tr>\n",
              "    <tr>\n",
              "      <th>2</th>\n",
              "      <td>8</td>\n",
              "      <td>183</td>\n",
              "      <td>64</td>\n",
              "      <td>0</td>\n",
              "      <td>0</td>\n",
              "      <td>23.3</td>\n",
              "      <td>0.672</td>\n",
              "      <td>32</td>\n",
              "      <td>1</td>\n",
              "    </tr>\n",
              "    <tr>\n",
              "      <th>3</th>\n",
              "      <td>1</td>\n",
              "      <td>89</td>\n",
              "      <td>66</td>\n",
              "      <td>23</td>\n",
              "      <td>94</td>\n",
              "      <td>28.1</td>\n",
              "      <td>0.167</td>\n",
              "      <td>21</td>\n",
              "      <td>0</td>\n",
              "    </tr>\n",
              "    <tr>\n",
              "      <th>4</th>\n",
              "      <td>0</td>\n",
              "      <td>137</td>\n",
              "      <td>40</td>\n",
              "      <td>35</td>\n",
              "      <td>168</td>\n",
              "      <td>43.1</td>\n",
              "      <td>2.288</td>\n",
              "      <td>33</td>\n",
              "      <td>1</td>\n",
              "    </tr>\n",
              "  </tbody>\n",
              "</table>\n",
              "</div>"
            ],
            "text/plain": [
              "   pregnancies  glucose  diastolic  triceps  ...   bmi    dpf  age  diabetes\n",
              "0            6      148         72       35  ...  33.6  0.627   50         1\n",
              "1            1       85         66       29  ...  26.6  0.351   31         0\n",
              "2            8      183         64        0  ...  23.3  0.672   32         1\n",
              "3            1       89         66       23  ...  28.1  0.167   21         0\n",
              "4            0      137         40       35  ...  43.1  2.288   33         1\n",
              "\n",
              "[5 rows x 9 columns]"
            ]
          },
          "metadata": {
            "tags": []
          },
          "execution_count": 4
        }
      ]
    },
    {
      "cell_type": "code",
      "metadata": {
        "colab": {
          "base_uri": "https://localhost:8080/"
        },
        "id": "6rP1lGDreQw6",
        "outputId": "08639911-52f4-471e-a732-84ae26b52024"
      },
      "source": [
        "df.isnull().sum() # check how many missing values exist in the collection"
      ],
      "execution_count": 5,
      "outputs": [
        {
          "output_type": "execute_result",
          "data": {
            "text/plain": [
              "pregnancies    0\n",
              "glucose        0\n",
              "diastolic      0\n",
              "triceps        0\n",
              "insulin        0\n",
              "bmi            0\n",
              "dpf            0\n",
              "age            0\n",
              "diabetes       0\n",
              "dtype: int64"
            ]
          },
          "metadata": {
            "tags": []
          },
          "execution_count": 5
        }
      ]
    },
    {
      "cell_type": "code",
      "metadata": {
        "colab": {
          "base_uri": "https://localhost:8080/"
        },
        "id": "5_tRsa7CkjXU",
        "outputId": "f419d3fe-f12d-42e2-aaea-bf0ef2dadb22"
      },
      "source": [
        "df.info()"
      ],
      "execution_count": 6,
      "outputs": [
        {
          "output_type": "stream",
          "text": [
            "<class 'pandas.core.frame.DataFrame'>\n",
            "RangeIndex: 768 entries, 0 to 767\n",
            "Data columns (total 9 columns):\n",
            " #   Column       Non-Null Count  Dtype  \n",
            "---  ------       --------------  -----  \n",
            " 0   pregnancies  768 non-null    int64  \n",
            " 1   glucose      768 non-null    int64  \n",
            " 2   diastolic    768 non-null    int64  \n",
            " 3   triceps      768 non-null    int64  \n",
            " 4   insulin      768 non-null    int64  \n",
            " 5   bmi          768 non-null    float64\n",
            " 6   dpf          768 non-null    float64\n",
            " 7   age          768 non-null    int64  \n",
            " 8   diabetes     768 non-null    int64  \n",
            "dtypes: float64(2), int64(7)\n",
            "memory usage: 54.1 KB\n"
          ],
          "name": "stdout"
        }
      ]
    },
    {
      "cell_type": "code",
      "metadata": {
        "colab": {
          "base_uri": "https://localhost:8080/",
          "height": 338
        },
        "id": "WOJAy679kM4i",
        "outputId": "4dafad32-a07d-4ff5-9cca-d89c0ee02aab"
      },
      "source": [
        "#See features which are positively correlated with diabetes, and which ones are negatively correlated.\r\n",
        "import seaborn as sns\r\n",
        "sns.heatmap(df.corr(), square=True, cmap='RdYlGn') #df.corr() computes the pairwise correlation between columns:"
      ],
      "execution_count": 7,
      "outputs": [
        {
          "output_type": "execute_result",
          "data": {
            "text/plain": [
              "<matplotlib.axes._subplots.AxesSubplot at 0x7f660dd46630>"
            ]
          },
          "metadata": {
            "tags": []
          },
          "execution_count": 7
        },
        {
          "output_type": "display_data",
          "data": {
            "image/png": "[encoded data removed]",
            "text/plain": [
              "<Figure size 432x288 with 2 Axes>"
            ]
          },
          "metadata": {
            "tags": [],
            "needs_background": "light"
          }
        }
      ]
    },
    {
      "cell_type": "markdown",
      "metadata": {
        "id": "0reqRM49c3W8"
      },
      "source": [
        " Create arrays/df for the features and the response variable"
      ]
    },
    {
      "cell_type": "code",
      "metadata": {
        "id": "Ch2CobayWjnG"
      },
      "source": [
        "y=df['diabetes'].values\r\n",
        "X=df.drop('diabetes', axis=1)"
      ],
      "execution_count": 8,
      "outputs": []
    },
    {
      "cell_type": "markdown",
      "metadata": {
        "id": "5ms8Sp6kcsgB"
      },
      "source": [
        "Handling missing data"
      ]
    },
    {
      "cell_type": "code",
      "metadata": {
        "colab": {
          "base_uri": "https://localhost:8080/",
          "height": 297
        },
        "id": "mkQYR5ygdMp7",
        "outputId": "c7ebb6ac-beab-450e-a924-4467e2e0d2de"
      },
      "source": [
        "X.describe()"
      ],
      "execution_count": 9,
      "outputs": [
        {
          "output_type": "execute_result",
          "data": {
            "text/html": [
              "<div>\n",
              "<style scoped>\n",
              "    .dataframe tbody tr th:only-of-type {\n",
              "        vertical-align: middle;\n",
              "    }\n",
              "\n",
              "    .dataframe tbody tr th {\n",
              "        vertical-align: top;\n",
              "    }\n",
              "\n",
              "    .dataframe thead th {\n",
              "        text-align: right;\n",
              "    }\n",
              "</style>\n",
              "<table border=\"1\" class=\"dataframe\">\n",
              "  <thead>\n",
              "    <tr style=\"text-align: right;\">\n",
              "      <th></th>\n",
              "      <th>pregnancies</th>\n",
              "      <th>glucose</th>\n",
              "      <th>diastolic</th>\n",
              "      <th>triceps</th>\n",
              "      <th>insulin</th>\n",
              "      <th>bmi</th>\n",
              "      <th>dpf</th>\n",
              "      <th>age</th>\n",
              "    </tr>\n",
              "  </thead>\n",
              "  <tbody>\n",
              "    <tr>\n",
              "      <th>count</th>\n",
              "      <td>768.000000</td>\n",
              "      <td>768.000000</td>\n",
              "      <td>768.000000</td>\n",
              "      <td>768.000000</td>\n",
              "      <td>768.000000</td>\n",
              "      <td>768.000000</td>\n",
              "      <td>768.000000</td>\n",
              "      <td>768.000000</td>\n",
              "    </tr>\n",
              "    <tr>\n",
              "      <th>mean</th>\n",
              "      <td>3.845052</td>\n",
              "      <td>120.894531</td>\n",
              "      <td>69.105469</td>\n",
              "      <td>20.536458</td>\n",
              "      <td>79.799479</td>\n",
              "      <td>31.992578</td>\n",
              "      <td>0.471876</td>\n",
              "      <td>33.240885</td>\n",
              "    </tr>\n",
              "    <tr>\n",
              "      <th>std</th>\n",
              "      <td>3.369578</td>\n",
              "      <td>31.972618</td>\n",
              "      <td>19.355807</td>\n",
              "      <td>15.952218</td>\n",
              "      <td>115.244002</td>\n",
              "      <td>7.884160</td>\n",
              "      <td>0.331329</td>\n",
              "      <td>11.760232</td>\n",
              "    </tr>\n",
              "    <tr>\n",
              "      <th>min</th>\n",
              "      <td>0.000000</td>\n",
              "      <td>0.000000</td>\n",
              "      <td>0.000000</td>\n",
              "      <td>0.000000</td>\n",
              "      <td>0.000000</td>\n",
              "      <td>0.000000</td>\n",
              "      <td>0.078000</td>\n",
              "      <td>21.000000</td>\n",
              "    </tr>\n",
              "    <tr>\n",
              "      <th>25%</th>\n",
              "      <td>1.000000</td>\n",
              "      <td>99.000000</td>\n",
              "      <td>62.000000</td>\n",
              "      <td>0.000000</td>\n",
              "      <td>0.000000</td>\n",
              "      <td>27.300000</td>\n",
              "      <td>0.243750</td>\n",
              "      <td>24.000000</td>\n",
              "    </tr>\n",
              "    <tr>\n",
              "      <th>50%</th>\n",
              "      <td>3.000000</td>\n",
              "      <td>117.000000</td>\n",
              "      <td>72.000000</td>\n",
              "      <td>23.000000</td>\n",
              "      <td>30.500000</td>\n",
              "      <td>32.000000</td>\n",
              "      <td>0.372500</td>\n",
              "      <td>29.000000</td>\n",
              "    </tr>\n",
              "    <tr>\n",
              "      <th>75%</th>\n",
              "      <td>6.000000</td>\n",
              "      <td>140.250000</td>\n",
              "      <td>80.000000</td>\n",
              "      <td>32.000000</td>\n",
              "      <td>127.250000</td>\n",
              "      <td>36.600000</td>\n",
              "      <td>0.626250</td>\n",
              "      <td>41.000000</td>\n",
              "    </tr>\n",
              "    <tr>\n",
              "      <th>max</th>\n",
              "      <td>17.000000</td>\n",
              "      <td>199.000000</td>\n",
              "      <td>122.000000</td>\n",
              "      <td>99.000000</td>\n",
              "      <td>846.000000</td>\n",
              "      <td>67.100000</td>\n",
              "      <td>2.420000</td>\n",
              "      <td>81.000000</td>\n",
              "    </tr>\n",
              "  </tbody>\n",
              "</table>\n",
              "</div>"
            ],
            "text/plain": [
              "       pregnancies     glucose   diastolic  ...         bmi         dpf         age\n",
              "count   768.000000  768.000000  768.000000  ...  768.000000  768.000000  768.000000\n",
              "mean      3.845052  120.894531   69.105469  ...   31.992578    0.471876   33.240885\n",
              "std       3.369578   31.972618   19.355807  ...    7.884160    0.331329   11.760232\n",
              "min       0.000000    0.000000    0.000000  ...    0.000000    0.078000   21.000000\n",
              "25%       1.000000   99.000000   62.000000  ...   27.300000    0.243750   24.000000\n",
              "50%       3.000000  117.000000   72.000000  ...   32.000000    0.372500   29.000000\n",
              "75%       6.000000  140.250000   80.000000  ...   36.600000    0.626250   41.000000\n",
              "max      17.000000  199.000000  122.000000  ...   67.100000    2.420000   81.000000\n",
              "\n",
              "[8 rows x 8 columns]"
            ]
          },
          "metadata": {
            "tags": []
          },
          "execution_count": 9
        }
      ]
    },
    {
      "cell_type": "code",
      "metadata": {
        "colab": {
          "base_uri": "https://localhost:8080/"
        },
        "id": "AqJzJxiFJeec",
        "outputId": "878f7f9a-8613-4901-c2ad-77bb622a4927"
      },
      "source": [
        "feature_list=['glucose','diastolic','insulin','triceps','bmi','age'] # these features cannot possibly have a min which is equal to zero, therefore we will fill them with nan to impute them later\r\n",
        "for i in feature_list:\r\n",
        "  #print([X[i]==0])\r\n",
        "  X[i]=X[i].replace(0, np.nan)\r\n",
        "print(X)\r\n"
      ],
      "execution_count": 10,
      "outputs": [
        {
          "output_type": "stream",
          "text": [
            "     pregnancies  glucose  diastolic  triceps  insulin   bmi    dpf  age\n",
            "0              6    148.0       72.0     35.0      NaN  33.6  0.627   50\n",
            "1              1     85.0       66.0     29.0      NaN  26.6  0.351   31\n",
            "2              8    183.0       64.0      NaN      NaN  23.3  0.672   32\n",
            "3              1     89.0       66.0     23.0     94.0  28.1  0.167   21\n",
            "4              0    137.0       40.0     35.0    168.0  43.1  2.288   33\n",
            "..           ...      ...        ...      ...      ...   ...    ...  ...\n",
            "763           10    101.0       76.0     48.0    180.0  32.9  0.171   63\n",
            "764            2    122.0       70.0     27.0      NaN  36.8  0.340   27\n",
            "765            5    121.0       72.0     23.0    112.0  26.2  0.245   30\n",
            "766            1    126.0       60.0      NaN      NaN  30.1  0.349   47\n",
            "767            1     93.0       70.0     31.0      NaN  30.4  0.315   23\n",
            "\n",
            "[768 rows x 8 columns]\n"
          ],
          "name": "stdout"
        }
      ]
    },
    {
      "cell_type": "code",
      "metadata": {
        "colab": {
          "base_uri": "https://localhost:8080/"
        },
        "id": "7VD1liWkRhdj",
        "outputId": "986bf1ac-7083-4d50-e06e-9256b1be84c1"
      },
      "source": [
        "print(X.isnull().sum())"
      ],
      "execution_count": 11,
      "outputs": [
        {
          "output_type": "stream",
          "text": [
            "pregnancies      0\n",
            "glucose          5\n",
            "diastolic       35\n",
            "triceps        227\n",
            "insulin        374\n",
            "bmi             11\n",
            "dpf              0\n",
            "age              0\n",
            "dtype: int64\n"
          ],
          "name": "stdout"
        }
      ]
    },
    {
      "cell_type": "markdown",
      "metadata": {
        "id": "FO1fssRdea7X"
      },
      "source": [
        "Dropping missing data"
      ]
    },
    {
      "cell_type": "code",
      "metadata": {
        "colab": {
          "base_uri": "https://localhost:8080/"
        },
        "id": "vQb9ZxxcdUsd",
        "outputId": "ead821ff-a5ae-4495-c80e-19720d2df46b"
      },
      "source": [
        "X_nozeros=X.dropna() \r\n",
        "X_nozeros.shape ## this drops about half of the data which contain missing values(i.e features which have 0's) therefore we will impute the data instead of dropping it"
      ],
      "execution_count": 12,
      "outputs": [
        {
          "output_type": "execute_result",
          "data": {
            "text/plain": [
              "(392, 8)"
            ]
          },
          "metadata": {
            "tags": []
          },
          "execution_count": 12
        }
      ]
    },
    {
      "cell_type": "markdown",
      "metadata": {
        "id": "dQXWocnLeW8j"
      },
      "source": [
        "Imputing missing data "
      ]
    },
    {
      "cell_type": "code",
      "metadata": {
        "colab": {
          "base_uri": "https://localhost:8080/",
          "height": 297
        },
        "id": "sNBp4yMTLtc4",
        "outputId": "11836c19-f55c-4a22-d1a6-bf78f5ab4250"
      },
      "source": [
        "X.describe()"
      ],
      "execution_count": 13,
      "outputs": [
        {
          "output_type": "execute_result",
          "data": {
            "text/html": [
              "<div>\n",
              "<style scoped>\n",
              "    .dataframe tbody tr th:only-of-type {\n",
              "        vertical-align: middle;\n",
              "    }\n",
              "\n",
              "    .dataframe tbody tr th {\n",
              "        vertical-align: top;\n",
              "    }\n",
              "\n",
              "    .dataframe thead th {\n",
              "        text-align: right;\n",
              "    }\n",
              "</style>\n",
              "<table border=\"1\" class=\"dataframe\">\n",
              "  <thead>\n",
              "    <tr style=\"text-align: right;\">\n",
              "      <th></th>\n",
              "      <th>pregnancies</th>\n",
              "      <th>glucose</th>\n",
              "      <th>diastolic</th>\n",
              "      <th>triceps</th>\n",
              "      <th>insulin</th>\n",
              "      <th>bmi</th>\n",
              "      <th>dpf</th>\n",
              "      <th>age</th>\n",
              "    </tr>\n",
              "  </thead>\n",
              "  <tbody>\n",
              "    <tr>\n",
              "      <th>count</th>\n",
              "      <td>768.000000</td>\n",
              "      <td>763.000000</td>\n",
              "      <td>733.000000</td>\n",
              "      <td>541.000000</td>\n",
              "      <td>394.000000</td>\n",
              "      <td>757.000000</td>\n",
              "      <td>768.000000</td>\n",
              "      <td>768.000000</td>\n",
              "    </tr>\n",
              "    <tr>\n",
              "      <th>mean</th>\n",
              "      <td>3.845052</td>\n",
              "      <td>121.686763</td>\n",
              "      <td>72.405184</td>\n",
              "      <td>29.153420</td>\n",
              "      <td>155.548223</td>\n",
              "      <td>32.457464</td>\n",
              "      <td>0.471876</td>\n",
              "      <td>33.240885</td>\n",
              "    </tr>\n",
              "    <tr>\n",
              "      <th>std</th>\n",
              "      <td>3.369578</td>\n",
              "      <td>30.535641</td>\n",
              "      <td>12.382158</td>\n",
              "      <td>10.476982</td>\n",
              "      <td>118.775855</td>\n",
              "      <td>6.924988</td>\n",
              "      <td>0.331329</td>\n",
              "      <td>11.760232</td>\n",
              "    </tr>\n",
              "    <tr>\n",
              "      <th>min</th>\n",
              "      <td>0.000000</td>\n",
              "      <td>44.000000</td>\n",
              "      <td>24.000000</td>\n",
              "      <td>7.000000</td>\n",
              "      <td>14.000000</td>\n",
              "      <td>18.200000</td>\n",
              "      <td>0.078000</td>\n",
              "      <td>21.000000</td>\n",
              "    </tr>\n",
              "    <tr>\n",
              "      <th>25%</th>\n",
              "      <td>1.000000</td>\n",
              "      <td>99.000000</td>\n",
              "      <td>64.000000</td>\n",
              "      <td>22.000000</td>\n",
              "      <td>76.250000</td>\n",
              "      <td>27.500000</td>\n",
              "      <td>0.243750</td>\n",
              "      <td>24.000000</td>\n",
              "    </tr>\n",
              "    <tr>\n",
              "      <th>50%</th>\n",
              "      <td>3.000000</td>\n",
              "      <td>117.000000</td>\n",
              "      <td>72.000000</td>\n",
              "      <td>29.000000</td>\n",
              "      <td>125.000000</td>\n",
              "      <td>32.300000</td>\n",
              "      <td>0.372500</td>\n",
              "      <td>29.000000</td>\n",
              "    </tr>\n",
              "    <tr>\n",
              "      <th>75%</th>\n",
              "      <td>6.000000</td>\n",
              "      <td>141.000000</td>\n",
              "      <td>80.000000</td>\n",
              "      <td>36.000000</td>\n",
              "      <td>190.000000</td>\n",
              "      <td>36.600000</td>\n",
              "      <td>0.626250</td>\n",
              "      <td>41.000000</td>\n",
              "    </tr>\n",
              "    <tr>\n",
              "      <th>max</th>\n",
              "      <td>17.000000</td>\n",
              "      <td>199.000000</td>\n",
              "      <td>122.000000</td>\n",
              "      <td>99.000000</td>\n",
              "      <td>846.000000</td>\n",
              "      <td>67.100000</td>\n",
              "      <td>2.420000</td>\n",
              "      <td>81.000000</td>\n",
              "    </tr>\n",
              "  </tbody>\n",
              "</table>\n",
              "</div>"
            ],
            "text/plain": [
              "       pregnancies     glucose   diastolic  ...         bmi         dpf         age\n",
              "count   768.000000  763.000000  733.000000  ...  757.000000  768.000000  768.000000\n",
              "mean      3.845052  121.686763   72.405184  ...   32.457464    0.471876   33.240885\n",
              "std       3.369578   30.535641   12.382158  ...    6.924988    0.331329   11.760232\n",
              "min       0.000000   44.000000   24.000000  ...   18.200000    0.078000   21.000000\n",
              "25%       1.000000   99.000000   64.000000  ...   27.500000    0.243750   24.000000\n",
              "50%       3.000000  117.000000   72.000000  ...   32.300000    0.372500   29.000000\n",
              "75%       6.000000  141.000000   80.000000  ...   36.600000    0.626250   41.000000\n",
              "max      17.000000  199.000000  122.000000  ...   67.100000    2.420000   81.000000\n",
              "\n",
              "[8 rows x 8 columns]"
            ]
          },
          "metadata": {
            "tags": []
          },
          "execution_count": 13
        }
      ]
    },
    {
      "cell_type": "code",
      "metadata": {
        "id": "61QBvdfESIav"
      },
      "source": [
        "from sklearn.impute import SimpleImputer\r\n",
        "imp_common = SimpleImputer(missing_values=np.nan, strategy='most_frequent')\r\n",
        "imp_common.fit(X)\r\n",
        "X=imp_common.transform(X)"
      ],
      "execution_count": 14,
      "outputs": []
    },
    {
      "cell_type": "code",
      "metadata": {
        "colab": {
          "base_uri": "https://localhost:8080/"
        },
        "id": "64qf-_LXYCx6",
        "outputId": "19daa28b-4d82-4d97-bf2b-cadc218c25f9"
      },
      "source": [
        "np.isnan(X).sum()"
      ],
      "execution_count": 15,
      "outputs": [
        {
          "output_type": "execute_result",
          "data": {
            "text/plain": [
              "0"
            ]
          },
          "metadata": {
            "tags": []
          },
          "execution_count": 15
        }
      ]
    },
    {
      "cell_type": "code",
      "metadata": {
        "colab": {
          "base_uri": "https://localhost:8080/"
        },
        "id": "1O8Ezl8Xcb07",
        "outputId": "e1faf4c7-8ab1-4873-ebb5-994d235b7ddc"
      },
      "source": [
        "# Import scale\r\n",
        "from sklearn.preprocessing import scale\r\n",
        "\r\n",
        "# Scale the features: X_scaled\r\n",
        "X_scaled = scale(X)\r\n",
        "\r\n",
        "# Print the mean and standard deviation of the unscaled features\r\n",
        "print(\"Mean of Unscaled Features: {}\".format(np.mean(X))) \r\n",
        "print(\"Standard Deviation of Unscaled Features: {}\".format(np.std(X)))\r\n",
        "\r\n",
        "# Print the mean and standard deviation of the scaled features\r\n",
        "print(\"Mean of Scaled Features: {}\".format(np.mean(X_scaled))) \r\n",
        "print(\"Standard Deviation of Scaled Features: {}\".format(np.std(X_scaled)))"
      ],
      "execution_count": 16,
      "outputs": [
        {
          "output_type": "stream",
          "text": [
            "Mean of Unscaled Features: 53.09630550130208\n",
            "Standard Deviation of Unscaled Features: 57.95327296281436\n",
            "Mean of Scaled Features: 5.233082485863368e-17\n",
            "Standard Deviation of Scaled Features: 1.0\n"
          ],
          "name": "stdout"
        }
      ]
    },
    {
      "cell_type": "code",
      "metadata": {
        "id": "bx5yTwj1gXZ3"
      },
      "source": [
        "# Create training and test set\r\n",
        "from sklearn.model_selection import train_test_split\r\n",
        "X_train, X_test, y_train, y_test=train_test_split(X,y,test_size=0.4, random_state=42)"
      ],
      "execution_count": 17,
      "outputs": []
    },
    {
      "cell_type": "markdown",
      "metadata": {
        "id": "akqCzam2GAPb"
      },
      "source": [
        "###K-Nearest Neighbors Classification (knn)"
      ]
    },
    {
      "cell_type": "code",
      "metadata": {
        "id": "MSLMmPasgDV_"
      },
      "source": [
        "# Import KNN\r\n",
        "from sklearn.neighbors import KNeighborsClassifier"
      ],
      "execution_count": 18,
      "outputs": []
    },
    {
      "cell_type": "code",
      "metadata": {
        "colab": {
          "base_uri": "https://localhost:8080/",
          "height": 295
        },
        "id": "hjWDghzCfgT0",
        "outputId": "2d873e90-2f58-4317-8be5-a13cb9a1936c"
      },
      "source": [
        "neighbors = np.arange(1, 20)\r\n",
        "train_accuracy = np.empty(len(neighbors))\r\n",
        "test_accuracy = np.empty(len(neighbors))\r\n",
        "\r\n",
        "# Loop over different values of k\r\n",
        "for i, k in enumerate(neighbors):\r\n",
        "    # Setup a k-NN Classifier with k neighbors: knn\r\n",
        "    knn = KNeighborsClassifier(n_neighbors=k)\r\n",
        "\r\n",
        "    # Fit the classifier to the training data\r\n",
        "    knn.fit(X_train,y_train)\r\n",
        "    \r\n",
        "    #Compute accuracy on the training set\r\n",
        "    train_accuracy[i] = knn.score(X_train,y_train)\r\n",
        "\r\n",
        "    #Compute accuracy on the testing set of the classifier's predictions\r\n",
        "    test_accuracy[i] = knn.score(X_test, y_test)\r\n",
        "\r\n",
        "# Generate plot\r\n",
        "plt.title('k-NN: Varying Number of Neighbors')\r\n",
        "plt.plot(neighbors, test_accuracy, label = 'Testing Accuracy')\r\n",
        "plt.plot(neighbors, train_accuracy, label = 'Training Accuracy')\r\n",
        "plt.legend()\r\n",
        "plt.xlabel('Number of Neighbors')\r\n",
        "plt.ylabel('Accuracy')\r\n",
        "plt.show()\r\n"
      ],
      "execution_count": 19,
      "outputs": [
        {
          "output_type": "display_data",
          "data": {
            "image/png": "[encoded data removed]",
            "text/plain": [
              "<Figure size 432x288 with 1 Axes>"
            ]
          },
          "metadata": {
            "tags": [],
            "needs_background": "light"
          }
        }
      ]
    },
    {
      "cell_type": "markdown",
      "metadata": {
        "id": "M43fISUkYaxe"
      },
      "source": [
        "Hyperparameter tuning "
      ]
    },
    {
      "cell_type": "code",
      "metadata": {
        "colab": {
          "base_uri": "https://localhost:8080/"
        },
        "id": "jUy48CvTYZfp",
        "outputId": "20cec248-c507-4f42-f8d7-e4770d164b26"
      },
      "source": [
        "# Import necessary modules\r\n",
        "from sklearn.model_selection import GridSearchCV\r\n",
        "\r\n",
        "# Setup the hyperparameter grid\r\n",
        "param_grid = {'n_neighbors': np.arange(1,20)}\r\n",
        "\r\n",
        "# Instantiate a logistic regression classifier: logreg\r\n",
        "knn = KNeighborsClassifier()\r\n",
        "\r\n",
        "# Instantiate the GridSearchCV object: logreg_cv\r\n",
        "knn_cv = GridSearchCV(knn, param_grid, cv=5)\r\n",
        "\r\n",
        "# Fit it to the data\r\n",
        "knn_cv.fit(X_train,y_train)\r\n",
        "\r\n",
        "# Print the tuned parameters and score\r\n",
        "print(\"Tuned Logistic Regression Parameters: {}\".format(knn_cv.best_params_)) \r\n",
        "print(\"Best score is {}\".format(knn_cv.best_score_))"
      ],
      "execution_count": 20,
      "outputs": [
        {
          "output_type": "stream",
          "text": [
            "Tuned Logistic Regression Parameters: {'n_neighbors': 18}\n",
            "Best score is 0.726086956521739\n"
          ],
          "name": "stdout"
        }
      ]
    },
    {
      "cell_type": "markdown",
      "metadata": {
        "id": "zLn0ayjoEuJ9"
      },
      "source": [
        "Evaluating model performance"
      ]
    },
    {
      "cell_type": "code",
      "metadata": {
        "colab": {
          "base_uri": "https://localhost:8080/"
        },
        "id": "JCrOvpsJeqrU",
        "outputId": "dab7008f-6558-46de-eaa0-55a86acc3c41"
      },
      "source": [
        "# Evaluating a model with tuned hyperparameters on a hold-out set\r\n",
        "from sklearn.metrics import confusion_matrix\r\n",
        "from sklearn.metrics import classification_report\r\n",
        "# Predict the labels of the test data: y_pred\r\n",
        "y_pred = knn_cv.predict(X_test)\r\n",
        "#Compute the accuracy of the classification model\r\n",
        "print(\"model score: %.3f\" % knn_cv.score(X_test, y_test))\r\n",
        "# Generate the confusion matrix and classification report\r\n",
        "print(confusion_matrix(y_test, y_pred))\r\n",
        "print(classification_report(y_test, y_pred))"
      ],
      "execution_count": 21,
      "outputs": [
        {
          "output_type": "stream",
          "text": [
            "model score: 0.727\n",
            "[[176  30]\n",
            " [ 54  48]]\n",
            "              precision    recall  f1-score   support\n",
            "\n",
            "           0       0.77      0.85      0.81       206\n",
            "           1       0.62      0.47      0.53       102\n",
            "\n",
            "    accuracy                           0.73       308\n",
            "   macro avg       0.69      0.66      0.67       308\n",
            "weighted avg       0.72      0.73      0.72       308\n",
            "\n"
          ],
          "name": "stdout"
        }
      ]
    },
    {
      "cell_type": "markdown",
      "metadata": {
        "id": "aDCx0HE9F49h"
      },
      "source": [
        "###Logistic Regression"
      ]
    },
    {
      "cell_type": "code",
      "metadata": {
        "id": "dr1UwpfzdtS-"
      },
      "source": [
        "#Import Logisitc Regression\r\n",
        "from sklearn.linear_model import LogisticRegression"
      ],
      "execution_count": 22,
      "outputs": []
    },
    {
      "cell_type": "markdown",
      "metadata": {
        "id": "x6YwOOpwdhwy"
      },
      "source": [
        "Hyperparameter tuning"
      ]
    },
    {
      "cell_type": "code",
      "metadata": {
        "colab": {
          "base_uri": "https://localhost:8080/"
        },
        "id": "QUSBO61FY5tz",
        "outputId": "c1780189-e5e8-4c01-b6d6-0af9f89b870a"
      },
      "source": [
        "# Import necessary modules\r\n",
        "from sklearn.model_selection import GridSearchCV\r\n",
        "\r\n",
        "#Logistic regression also has a regularization parameter: C controls the inverse of the regularization strength. \r\n",
        "#A large  can lead to an overfit model, while a small  can lead to an underfit model.\r\n",
        "\r\n",
        "# Create the hyperparameter grid\r\n",
        "c_space = np.logspace(-5, 8, 15)\r\n",
        "\r\n",
        "param_grid = {'C': c_space}\r\n",
        "\r\n",
        "# Instantiate the logistic regression classifier: logreg\r\n",
        "logreg = LogisticRegression(max_iter=4000)\r\n",
        "\r\n",
        "# Instantiate the GridSearchCV object: logreg_cv\r\n",
        "logreg_cv = GridSearchCV(logreg,param_grid,cv=5)\r\n",
        "\r\n",
        "# Fit it to the training data\r\n",
        "logreg_cv.fit(X_train,y_train)\r\n",
        "\r\n",
        "# Print the optimal parameters and best score\r\n",
        "print(\"Tuned Logistic Regression Parameter: {}\".format(logreg_cv.best_params_))\r\n",
        "print(\"Tuned Logistic Regression Accuracy: {}\".format(logreg_cv.best_score_))\r\n"
      ],
      "execution_count": 23,
      "outputs": [
        {
          "output_type": "stream",
          "text": [
            "Tuned Logistic Regression Parameter: {'C': 0.006105402296585327}\n",
            "Tuned Logistic Regression Accuracy: 0.7608695652173914\n"
          ],
          "name": "stdout"
        }
      ]
    },
    {
      "cell_type": "markdown",
      "metadata": {
        "id": "5pz2GpCAee7m"
      },
      "source": [
        "Evaluating performance\r\n"
      ]
    },
    {
      "cell_type": "code",
      "metadata": {
        "colab": {
          "base_uri": "https://localhost:8080/"
        },
        "id": "grsHlYX60l7U",
        "outputId": "8a68be75-6588-429f-f5d5-81a630cbc881"
      },
      "source": [
        "#Evaluating a model with tuned hyperparameters on a hold-out set\r\n",
        "# Predict the labels of the test set: y_pred\r\n",
        "y_pred = logreg_cv.predict(X_test)\r\n",
        "# Compute and print the confusion matrix and classification report\r\n",
        "print(confusion_matrix(y_test, y_pred))\r\n",
        "print(classification_report(y_test, y_pred))"
      ],
      "execution_count": 24,
      "outputs": [
        {
          "output_type": "stream",
          "text": [
            "[[173  33]\n",
            " [ 40  62]]\n",
            "              precision    recall  f1-score   support\n",
            "\n",
            "           0       0.81      0.84      0.83       206\n",
            "           1       0.65      0.61      0.63       102\n",
            "\n",
            "    accuracy                           0.76       308\n",
            "   macro avg       0.73      0.72      0.73       308\n",
            "weighted avg       0.76      0.76      0.76       308\n",
            "\n"
          ],
          "name": "stdout"
        }
      ]
    },
    {
      "cell_type": "code",
      "metadata": {
        "colab": {
          "base_uri": "https://localhost:8080/",
          "height": 295
        },
        "id": "8HDdvud07wzX",
        "outputId": "70699f65-95bf-4d1c-d967-272f639993b6"
      },
      "source": [
        "# Import necessary modules\r\n",
        "from sklearn.metrics import roc_curve\r\n",
        "# Compute predicted probabilities: y_pred_prob\r\n",
        "y_pred_prob = logreg_cv.predict_proba(X_test)[:,1] #chose the second column, index=1 which is the prob of predicted label being 1\r\n",
        "# Generate ROC curve values: fpr, tpr, thresholds\r\n",
        "fpr, tpr, thresholds = roc_curve(y_test, y_pred_prob)\r\n",
        "# Plot ROC curve\r\n",
        "plt.plot([0, 1], [0, 1], 'k--')\r\n",
        "plt.plot(fpr, tpr, label='Logistic Regression') #ROC curve provides a nice visual way to assess  classifier's performance\r\n",
        "plt.xlabel('False Positive Rate')\r\n",
        "plt.ylabel('True Positive Rate')\r\n",
        "plt.title('ROC Curve')\r\n",
        "plt.show()"
      ],
      "execution_count": 25,
      "outputs": [
        {
          "output_type": "display_data",
          "data": {
            "image/png": "[encoded data removed]",
            "text/plain": [
              "<Figure size 432x288 with 1 Axes>"
            ]
          },
          "metadata": {
            "tags": [],
            "needs_background": "light"
          }
        }
      ]
    },
    {
      "cell_type": "code",
      "metadata": {
        "colab": {
          "base_uri": "https://localhost:8080/"
        },
        "id": "-Ntd_xQ6DdZo",
        "outputId": "0289a307-326d-4f09-f57d-232fc2776ffd"
      },
      "source": [
        "# Import necessary modules\r\n",
        "from sklearn.metrics import  roc_auc_score\r\n",
        "from sklearn.model_selection import cross_val_score\r\n",
        "# Compute predicted probabilities: y_pred_prob\r\n",
        "y_pred_prob=logreg_cv.predict_proba(X_test)[:,1]\r\n",
        "# Compute and print AUC score\r\n",
        "print(\"AUC: {}\".format(roc_auc_score(y_test, y_pred_prob)))\r\n",
        "# Compute cross-validated AUC scores: cv_auc\r\n",
        "cv_auc = cross_val_score(logreg,X,y,cv=5,scoring='roc_auc')\r\n",
        "# Print list of AUC scores\r\n",
        "print(\"AUC scores computed using 5-fold cross-validation: {}\".format((cv_auc)))\r\n",
        "print(\"Average AUC score computed using 5-fold cross-validation: {}\".format(np.mean(cv_auc)))\r\n",
        "#If the classifer is corresct aoximately 50% of the time, the resulting ROC curve would be a diagonal line in which the True Positive Rate and False Positive Rate are always equal. The Area under this ROC curve would be 0.5.\r\n",
        "# If the AUC is greater than 0.5, the model is better than random guessing."
      ],
      "execution_count": 26,
      "outputs": [
        {
          "output_type": "stream",
          "text": [
            "AUC: 0.8183894917190178\n",
            "AUC scores computed using 5-fold cross-validation: [0.81407407 0.8        0.84907407 0.88301887 0.84509434]\n",
            "Average AUC score computed using 5-fold cross-validation: 0.8382522711390636\n"
          ],
          "name": "stdout"
        }
      ]
    },
    {
      "cell_type": "markdown",
      "metadata": {
        "id": "sLEIbKhOkdDv"
      },
      "source": [
        "###Decision Trees"
      ]
    },
    {
      "cell_type": "code",
      "metadata": {
        "id": "4mi3kHDxlwC1"
      },
      "source": [
        "#Import Decision Tree\r\n",
        "from sklearn.tree import DecisionTreeClassifier"
      ],
      "execution_count": 27,
      "outputs": []
    },
    {
      "cell_type": "markdown",
      "metadata": {
        "id": "D0LjwWyCl01o"
      },
      "source": [
        "Hyperparameter tuning"
      ]
    },
    {
      "cell_type": "code",
      "metadata": {
        "colab": {
          "base_uri": "https://localhost:8080/"
        },
        "id": "z46gzKxik-bV",
        "outputId": "938dfce8-fc9c-408f-8409-d7e015461d3a"
      },
      "source": [
        "# Import necessary modules\r\n",
        "from scipy.stats import randint\r\n",
        "\r\n",
        "from sklearn.model_selection import RandomizedSearchCV\r\n",
        "\r\n",
        "# Setup the parameters and distributions to sample from: param_dist\r\n",
        "param_dist = {\"max_depth\": [3, None],\r\n",
        "              \"max_features\": randint(1, 9),\r\n",
        "              \"min_samples_leaf\": randint(1, 9),\r\n",
        "              \"criterion\": [\"gini\", \"entropy\"]}\r\n",
        "\r\n",
        "# Instantiate a Decision Tree classifier: tree\r\n",
        "tree = DecisionTreeClassifier()\r\n",
        "\r\n",
        "# Instantiate the RandomizedSearchCV object: tree_cv\r\n",
        "tree_cv = RandomizedSearchCV(tree, param_dist, cv=5) #RandomizedSearchCV will never outperform GridSearchCV. Instead, it is valuable because it saves on computation time.\r\n",
        "\r\n",
        "# Fit it to the data\r\n",
        "tree_cv.fit(X_train,y_train)\r\n",
        "\r\n",
        "# Print the tuned parameters and score\r\n",
        "print(\"Tuned Decision Tree Parameters: {}\".format(tree_cv.best_params_))\r\n",
        "print(\"Best score is {}\".format(tree_cv.best_score_))"
      ],
      "execution_count": 28,
      "outputs": [
        {
          "output_type": "stream",
          "text": [
            "Tuned Decision Tree Parameters: {'criterion': 'entropy', 'max_depth': None, 'max_features': 3, 'min_samples_leaf': 8}\n",
            "Best score is 0.7304347826086957\n"
          ],
          "name": "stdout"
        }
      ]
    },
    {
      "cell_type": "markdown",
      "metadata": {
        "id": "yb1QcK-Wl9qY"
      },
      "source": [
        "Evaluating the model"
      ]
    },
    {
      "cell_type": "code",
      "metadata": {
        "colab": {
          "base_uri": "https://localhost:8080/"
        },
        "id": "KwzfjLNalCTv",
        "outputId": "5e2974e4-e55d-47f8-9939-a06fdcd2e719"
      },
      "source": [
        "# Evaluating a model with tuned hyperparameters on a hold-out set\r\n",
        "#Predict the labels of the test set: y_pred\r\n",
        "y_pred = tree_cv.predict(X_test)\r\n",
        "#Compute the accuracy of the classification model\r\n",
        "print(\"model score: %.3f\" % tree_cv.score(X_test, y_test))\r\n",
        "# Generate the confusion matrix and classification report\r\n",
        "print(confusion_matrix(y_test, y_pred))\r\n",
        "print(classification_report(y_test, y_pred))"
      ],
      "execution_count": 29,
      "outputs": [
        {
          "output_type": "stream",
          "text": [
            "model score: 0.734\n",
            "[[160  46]\n",
            " [ 36  66]]\n",
            "              precision    recall  f1-score   support\n",
            "\n",
            "           0       0.82      0.78      0.80       206\n",
            "           1       0.59      0.65      0.62       102\n",
            "\n",
            "    accuracy                           0.73       308\n",
            "   macro avg       0.70      0.71      0.71       308\n",
            "weighted avg       0.74      0.73      0.74       308\n",
            "\n"
          ],
          "name": "stdout"
        }
      ]
    },
    {
      "cell_type": "markdown",
      "metadata": {
        "id": "EH0WlQ_qHip7"
      },
      "source": [
        "###Support vector machine (SVM)"
      ]
    },
    {
      "cell_type": "code",
      "metadata": {
        "id": "CzDjRH4tHpJw"
      },
      "source": [
        "# Import the necessary modules\r\n",
        "from sklearn.preprocessing import StandardScaler\r\n",
        "from sklearn.pipeline import Pipeline\r\n",
        "from sklearn.svm import SVC #Support vector classifier type of SVM"
      ],
      "execution_count": 30,
      "outputs": []
    },
    {
      "cell_type": "code",
      "metadata": {
        "colab": {
          "base_uri": "https://localhost:8080/"
        },
        "id": "E17GR3YlHia4",
        "outputId": "3402a981-13cb-4228-e7e8-0d43924cc64a"
      },
      "source": [
        "#Pipeline for SVM classification- building a pipeline that includes scaling and hyperparameter tuning\r\n",
        "\r\n",
        "# Setup the pipeline\r\n",
        "steps = [('scaler', StandardScaler()),\r\n",
        "         ('SVM', SVC())]\r\n",
        "\r\n",
        "pipeline = Pipeline(steps)\r\n",
        "\r\n",
        "# Specify the hyperparameter space\r\n",
        "parameters = {'SVM__C':[1, 10, 100], #  C controls the regularization strength\r\n",
        "              'SVM__gamma':[0.1, 0.01]} #Gamma controls the kernel coefficient:\r\n",
        "\r\n",
        "# Instantiate the GridSearchCV object: cv\r\n",
        "cv = GridSearchCV(pipeline, parameters, cv=3)\r\n",
        "\r\n",
        "# Fit to the training set\r\n",
        "cv.fit(X_train,y_train)\r\n",
        "\r\n",
        "# Predict the labels of the test set: y_pred\r\n",
        "y_pred = cv.predict(X_test)\r\n",
        "\r\n",
        "# Compute and print metrics\r\n",
        "print(\"Accuracy: {}\".format(cv.score(X_test, y_test)))\r\n",
        "print(classification_report(y_test, y_pred))\r\n",
        "print(\"Tuned Model Parameters: {}\".format(cv.best_params_))"
      ],
      "execution_count": 31,
      "outputs": [
        {
          "output_type": "stream",
          "text": [
            "Accuracy: 0.7694805194805194\n",
            "              precision    recall  f1-score   support\n",
            "\n",
            "           0       0.80      0.87      0.83       206\n",
            "           1       0.68      0.57      0.62       102\n",
            "\n",
            "    accuracy                           0.77       308\n",
            "   macro avg       0.74      0.72      0.73       308\n",
            "weighted avg       0.76      0.77      0.76       308\n",
            "\n",
            "Tuned Model Parameters: {'SVM__C': 1, 'SVM__gamma': 0.01}\n"
          ],
          "name": "stdout"
        }
      ]
    }
  ]
}